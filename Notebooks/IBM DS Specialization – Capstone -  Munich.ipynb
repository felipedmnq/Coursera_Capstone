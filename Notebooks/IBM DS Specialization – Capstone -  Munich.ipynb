{
 "cells": [
  {
   "cell_type": "markdown",
   "metadata": {},
   "source": [
    "# WEEK 04 - Assigment"
   ]
  },
  {
   "cell_type": "markdown",
   "metadata": {},
   "source": [
    "## Problem definition."
   ]
  },
  {
   "cell_type": "code",
   "execution_count": 31,
   "metadata": {
    "ExecuteTime": {
     "end_time": "2021-02-19T09:38:19.191179Z",
     "start_time": "2021-02-19T09:38:18.145383Z"
    }
   },
   "outputs": [],
   "source": [
    "import folium\n",
    "import numpy as np\n",
    "import pandas as pd\n",
    "\n",
    "from tqdm import tqdm\n",
    "from geopy.geocoders import Nominatim\n",
    "from geopy.extra.rate_limiter import RateLimiter"
   ]
  },
  {
   "cell_type": "code",
   "execution_count": 2,
   "metadata": {
    "ExecuteTime": {
     "end_time": "2021-02-19T09:08:40.530086Z",
     "start_time": "2021-02-19T09:08:39.215562Z"
    }
   },
   "outputs": [
    {
     "data": {
      "text/html": [
       "<div>\n",
       "<style scoped>\n",
       "    .dataframe tbody tr th:only-of-type {\n",
       "        vertical-align: middle;\n",
       "    }\n",
       "\n",
       "    .dataframe tbody tr th {\n",
       "        vertical-align: top;\n",
       "    }\n",
       "\n",
       "    .dataframe thead th {\n",
       "        text-align: right;\n",
       "    }\n",
       "</style>\n",
       "<table border=\"1\" class=\"dataframe\">\n",
       "  <thead>\n",
       "    <tr style=\"text-align: right;\">\n",
       "      <th></th>\n",
       "      <th>borough</th>\n",
       "      <th>area_km2</th>\n",
       "      <th>residents</th>\n",
       "      <th>density</th>\n",
       "    </tr>\n",
       "  </thead>\n",
       "  <tbody>\n",
       "    <tr>\n",
       "      <th>0</th>\n",
       "      <td>Altstadt-Lehel</td>\n",
       "      <td>315</td>\n",
       "      <td>21.126</td>\n",
       "      <td>6.716</td>\n",
       "    </tr>\n",
       "    <tr>\n",
       "      <th>1</th>\n",
       "      <td>Ludwigsvorstadt-Isarvorstadt</td>\n",
       "      <td>440</td>\n",
       "      <td>51.933</td>\n",
       "      <td>11.799</td>\n",
       "    </tr>\n",
       "    <tr>\n",
       "      <th>2</th>\n",
       "      <td>Maxvorstadt</td>\n",
       "      <td>430</td>\n",
       "      <td>51.834</td>\n",
       "      <td>12.060</td>\n",
       "    </tr>\n",
       "    <tr>\n",
       "      <th>3</th>\n",
       "      <td>Schwabing-West</td>\n",
       "      <td>436</td>\n",
       "      <td>68.935</td>\n",
       "      <td>15.800</td>\n",
       "    </tr>\n",
       "    <tr>\n",
       "      <th>4</th>\n",
       "      <td>Au-Haidhausen</td>\n",
       "      <td>422</td>\n",
       "      <td>61.654</td>\n",
       "      <td>14.611</td>\n",
       "    </tr>\n",
       "  </tbody>\n",
       "</table>\n",
       "</div>"
      ],
      "text/plain": [
       "                        borough  area_km2 residents  density\n",
       "0                Altstadt-Lehel       315    21.126    6.716\n",
       "1  Ludwigsvorstadt-Isarvorstadt       440    51.933   11.799\n",
       "2                   Maxvorstadt       430    51.834   12.060\n",
       "3                Schwabing-West       436    68.935   15.800\n",
       "4                 Au-Haidhausen       422    61.654   14.611"
      ]
     },
     "execution_count": 2,
     "metadata": {},
     "output_type": "execute_result"
    }
   ],
   "source": [
    "url = 'https://de.wikipedia.org/wiki/Stadtbezirke_M%C3%BCnchens'\n",
    "\n",
    "df_munich = pd.read_html(url, index_col = 0)[0]\n",
    "df_munich.reset_index(inplace = True)\n",
    "df_munich.drop(columns = ['Nr.', 'Ausländer(%)'], inplace = True)\n",
    "df_munich.columns = ['borough', 'area_km2', 'residents', 'density']\n",
    "df_munich.head()"
   ]
  },
  {
   "cell_type": "code",
   "execution_count": 3,
   "metadata": {
    "ExecuteTime": {
     "end_time": "2021-02-19T09:08:40.543078Z",
     "start_time": "2021-02-19T09:08:40.533084Z"
    }
   },
   "outputs": [
    {
     "data": {
      "text/plain": [
       "borough       object\n",
       "area_km2       int64\n",
       "residents     object\n",
       "density      float64\n",
       "dtype: object"
      ]
     },
     "execution_count": 3,
     "metadata": {},
     "output_type": "execute_result"
    }
   ],
   "source": [
    "df_munich.dtypes"
   ]
  },
  {
   "cell_type": "code",
   "execution_count": 6,
   "metadata": {
    "ExecuteTime": {
     "end_time": "2021-02-19T09:08:56.857275Z",
     "start_time": "2021-02-19T09:08:56.836289Z"
    }
   },
   "outputs": [
    {
     "data": {
      "text/html": [
       "<div>\n",
       "<style scoped>\n",
       "    .dataframe tbody tr th:only-of-type {\n",
       "        vertical-align: middle;\n",
       "    }\n",
       "\n",
       "    .dataframe tbody tr th {\n",
       "        vertical-align: top;\n",
       "    }\n",
       "\n",
       "    .dataframe thead th {\n",
       "        text-align: right;\n",
       "    }\n",
       "</style>\n",
       "<table border=\"1\" class=\"dataframe\">\n",
       "  <thead>\n",
       "    <tr style=\"text-align: right;\">\n",
       "      <th></th>\n",
       "      <th>borough</th>\n",
       "      <th>area_km2</th>\n",
       "      <th>residents</th>\n",
       "      <th>density</th>\n",
       "    </tr>\n",
       "  </thead>\n",
       "  <tbody>\n",
       "    <tr>\n",
       "      <th>0</th>\n",
       "      <td>Altstadt-Lehel</td>\n",
       "      <td>315</td>\n",
       "      <td>21126</td>\n",
       "      <td>6.716</td>\n",
       "    </tr>\n",
       "    <tr>\n",
       "      <th>1</th>\n",
       "      <td>Ludwigsvorstadt-Isarvorstadt</td>\n",
       "      <td>440</td>\n",
       "      <td>51933</td>\n",
       "      <td>11.799</td>\n",
       "    </tr>\n",
       "    <tr>\n",
       "      <th>2</th>\n",
       "      <td>Maxvorstadt</td>\n",
       "      <td>430</td>\n",
       "      <td>51834</td>\n",
       "      <td>12.060</td>\n",
       "    </tr>\n",
       "    <tr>\n",
       "      <th>3</th>\n",
       "      <td>Schwabing-West</td>\n",
       "      <td>436</td>\n",
       "      <td>68935</td>\n",
       "      <td>15.800</td>\n",
       "    </tr>\n",
       "    <tr>\n",
       "      <th>4</th>\n",
       "      <td>Au-Haidhausen</td>\n",
       "      <td>422</td>\n",
       "      <td>61654</td>\n",
       "      <td>14.611</td>\n",
       "    </tr>\n",
       "  </tbody>\n",
       "</table>\n",
       "</div>"
      ],
      "text/plain": [
       "                        borough  area_km2  residents  density\n",
       "0                Altstadt-Lehel       315      21126    6.716\n",
       "1  Ludwigsvorstadt-Isarvorstadt       440      51933   11.799\n",
       "2                   Maxvorstadt       430      51834   12.060\n",
       "3                Schwabing-West       436      68935   15.800\n",
       "4                 Au-Haidhausen       422      61654   14.611"
      ]
     },
     "execution_count": 6,
     "metadata": {},
     "output_type": "execute_result"
    }
   ],
   "source": [
    "df_munich['residents'] = df_munich['residents'].apply(lambda x: x.replace('.', ''))\n",
    "df_munich['residents'] = df_munich['residents'].apply(lambda x: int(x))\n",
    "df_munich.head()"
   ]
  },
  {
   "cell_type": "code",
   "execution_count": 7,
   "metadata": {
    "ExecuteTime": {
     "end_time": "2021-02-19T09:08:59.153275Z",
     "start_time": "2021-02-19T09:08:59.145279Z"
    }
   },
   "outputs": [
    {
     "data": {
      "text/plain": [
       "borough       object\n",
       "area_km2       int64\n",
       "residents      int64\n",
       "density      float64\n",
       "dtype: object"
      ]
     },
     "execution_count": 7,
     "metadata": {},
     "output_type": "execute_result"
    }
   ],
   "source": [
    "df_munich.dtypes"
   ]
  },
  {
   "cell_type": "code",
   "execution_count": 11,
   "metadata": {
    "ExecuteTime": {
     "end_time": "2021-02-19T09:13:18.592513Z",
     "start_time": "2021-02-19T09:13:17.728512Z"
    }
   },
   "outputs": [
    {
     "name": "stdout",
     "output_type": "stream",
     "text": [
      "Munich coordinate: 48.1371079 ; 11.5753822.\n"
     ]
    }
   ],
   "source": [
    "# Getting Munich coordinates\n",
    "\n",
    "geoloc = Nominatim(user_agent = 'munich_explorer')\n",
    "location = geoloc.geocode('Munich')\n",
    "lat = location.latitude\n",
    "long = location.longitude\n",
    "\n",
    "print(f'Munich coordinates: {lat} ; {long}.')"
   ]
  },
  {
   "cell_type": "code",
   "execution_count": 18,
   "metadata": {
    "ExecuteTime": {
     "end_time": "2021-02-19T09:21:57.306417Z",
     "start_time": "2021-02-19T09:21:31.906313Z"
    }
   },
   "outputs": [
    {
     "name": "stderr",
     "output_type": "stream",
     "text": [
      "100%|██████████| 26/26 [00:25<00:00,  1.03it/s]\n"
     ]
    },
    {
     "data": {
      "text/plain": [
       "0     (Altstadt-Lehel, München, Bayern, Deutschland,...\n",
       "1     (Ludwigsvorstadt-Isarvorstadt, München, Bayern...\n",
       "2     (Maxvorstadt, München, Bayern, Deutschland, (4...\n",
       "3     (Schwabing-West, München, Bayern, Deutschland,...\n",
       "4     (Au-Haidhausen, München, Bayern, Deutschland, ...\n",
       "5     (Sendling, München, Bayern, 81371, Deutschland...\n",
       "6     (Sendling-Westpark, München, Bayern, Deutschla...\n",
       "7     (Schwanthalerhöhe, Heimeranstraße, Bezirksteil...\n",
       "8     (Neuhausen-Nymphenburg, München, Bayern, Deuts...\n",
       "9     (Moosach, Glonn (VGem), Landkreis Ebersberg, B...\n",
       "10    (Milbertshofen-Am Hart, München, Bayern, Deuts...\n",
       "11    (Schwabing-Freimann, München, Bayern, Deutschl...\n",
       "12    (Bogenhausen, Bezirksteil Englschalking, Bogen...\n",
       "13    (Berg am Laim, München, Bayern, Deutschland, (...\n",
       "14    (Trudering-Riem, München, Bayern, Deutschland,...\n",
       "15    (Ramersdorf-Perlach, München, Bayern, Deutschl...\n",
       "16    (Obergiesing-Fasangarten, München, Bayern, Deu...\n",
       "17    (Untergiesing-Harlaching, München, Bayern, Deu...\n",
       "18    (Thalkirchen-Obersendling-Forstenried-Fürstenr...\n",
       "19    (Hadern, München, Bayern, Deutschland, (48.118...\n",
       "20    (Pasing-Obermenzing, München, Bayern, Deutschl...\n",
       "21    (Aubing-Lochhausen-Langwied, München, Bayern, ...\n",
       "22    (Allach-Untermenzing, München, Bayern, Deutsch...\n",
       "23    (Feldmoching-Hasenbergl, München, Bayern, Deut...\n",
       "24    (Terragnolo, Comunità della Vallagarina, Provi...\n",
       "25    (Informationstafel des Bezirksausschusses 20, ...\n",
       "Name: borough, dtype: object"
      ]
     },
     "execution_count": 18,
     "metadata": {},
     "output_type": "execute_result"
    }
   ],
   "source": [
    "# Getting coordinates of each borough in Munich\n",
    "\n",
    "tqdm.pandas()\n",
    "geocode = RateLimiter(geoloc.geocode, min_delay_seconds=1)\n",
    "coords = (df_munich['borough']).progress_apply(geocode)\n",
    "coords"
   ]
  },
  {
   "cell_type": "code",
   "execution_count": 21,
   "metadata": {
    "ExecuteTime": {
     "end_time": "2021-02-19T09:24:51.792082Z",
     "start_time": "2021-02-19T09:24:51.782089Z"
    }
   },
   "outputs": [
    {
     "data": {
      "text/plain": [
       "Location(Altstadt-Lehel, München, Bayern, Deutschland, (48.1378285, 11.5745823, 0.0))"
      ]
     },
     "execution_count": 21,
     "metadata": {},
     "output_type": "execute_result"
    }
   ],
   "source": [
    "coords[0]"
   ]
  },
  {
   "cell_type": "code",
   "execution_count": 24,
   "metadata": {
    "ExecuteTime": {
     "end_time": "2021-02-19T09:27:54.250619Z",
     "start_time": "2021-02-19T09:27:54.215644Z"
    }
   },
   "outputs": [
    {
     "data": {
      "text/html": [
       "<div>\n",
       "<style scoped>\n",
       "    .dataframe tbody tr th:only-of-type {\n",
       "        vertical-align: middle;\n",
       "    }\n",
       "\n",
       "    .dataframe tbody tr th {\n",
       "        vertical-align: top;\n",
       "    }\n",
       "\n",
       "    .dataframe thead th {\n",
       "        text-align: right;\n",
       "    }\n",
       "</style>\n",
       "<table border=\"1\" class=\"dataframe\">\n",
       "  <thead>\n",
       "    <tr style=\"text-align: right;\">\n",
       "      <th></th>\n",
       "      <th>borough</th>\n",
       "      <th>area_km2</th>\n",
       "      <th>residents</th>\n",
       "      <th>density</th>\n",
       "      <th>lat</th>\n",
       "      <th>long</th>\n",
       "    </tr>\n",
       "  </thead>\n",
       "  <tbody>\n",
       "    <tr>\n",
       "      <th>0</th>\n",
       "      <td>Altstadt-Lehel</td>\n",
       "      <td>315</td>\n",
       "      <td>21126</td>\n",
       "      <td>6.716</td>\n",
       "      <td>48.137828</td>\n",
       "      <td>11.574582</td>\n",
       "    </tr>\n",
       "    <tr>\n",
       "      <th>1</th>\n",
       "      <td>Ludwigsvorstadt-Isarvorstadt</td>\n",
       "      <td>440</td>\n",
       "      <td>51933</td>\n",
       "      <td>11.799</td>\n",
       "      <td>48.130340</td>\n",
       "      <td>11.573366</td>\n",
       "    </tr>\n",
       "    <tr>\n",
       "      <th>2</th>\n",
       "      <td>Maxvorstadt</td>\n",
       "      <td>430</td>\n",
       "      <td>51834</td>\n",
       "      <td>12.060</td>\n",
       "      <td>48.151092</td>\n",
       "      <td>11.562418</td>\n",
       "    </tr>\n",
       "    <tr>\n",
       "      <th>3</th>\n",
       "      <td>Schwabing-West</td>\n",
       "      <td>436</td>\n",
       "      <td>68935</td>\n",
       "      <td>15.800</td>\n",
       "      <td>48.168271</td>\n",
       "      <td>11.569873</td>\n",
       "    </tr>\n",
       "    <tr>\n",
       "      <th>4</th>\n",
       "      <td>Au-Haidhausen</td>\n",
       "      <td>422</td>\n",
       "      <td>61654</td>\n",
       "      <td>14.611</td>\n",
       "      <td>48.128753</td>\n",
       "      <td>11.590536</td>\n",
       "    </tr>\n",
       "  </tbody>\n",
       "</table>\n",
       "</div>"
      ],
      "text/plain": [
       "                        borough  area_km2  residents  density        lat  \\\n",
       "0                Altstadt-Lehel       315      21126    6.716  48.137828   \n",
       "1  Ludwigsvorstadt-Isarvorstadt       440      51933   11.799  48.130340   \n",
       "2                   Maxvorstadt       430      51834   12.060  48.151092   \n",
       "3                Schwabing-West       436      68935   15.800  48.168271   \n",
       "4                 Au-Haidhausen       422      61654   14.611  48.128753   \n",
       "\n",
       "        long  \n",
       "0  11.574582  \n",
       "1  11.573366  \n",
       "2  11.562418  \n",
       "3  11.569873  \n",
       "4  11.590536  "
      ]
     },
     "execution_count": 24,
     "metadata": {},
     "output_type": "execute_result"
    }
   ],
   "source": [
    "# Creating latitude and longitude features.\n",
    "\n",
    "df_munich['lat'] = np.nan\n",
    "df_munich['long'] = np.nan\n",
    "\n",
    "for i in df_munich.index:\n",
    "    df_munich.at[i, 'lat'] = coords[i].latitude\n",
    "    df_munich.at[i, 'long'] = coords[i].longitude\n",
    "\n",
    "df_munich.head()"
   ]
  },
  {
   "cell_type": "code",
   "execution_count": 30,
   "metadata": {
    "ExecuteTime": {
     "end_time": "2021-02-19T09:36:04.475742Z",
     "start_time": "2021-02-19T09:36:04.445761Z"
    },
    "scrolled": true
   },
   "outputs": [
    {
     "data": {
      "text/html": [
       "<div>\n",
       "<style scoped>\n",
       "    .dataframe tbody tr th:only-of-type {\n",
       "        vertical-align: middle;\n",
       "    }\n",
       "\n",
       "    .dataframe tbody tr th {\n",
       "        vertical-align: top;\n",
       "    }\n",
       "\n",
       "    .dataframe thead th {\n",
       "        text-align: right;\n",
       "    }\n",
       "</style>\n",
       "<table border=\"1\" class=\"dataframe\">\n",
       "  <thead>\n",
       "    <tr style=\"text-align: right;\">\n",
       "      <th></th>\n",
       "      <th>borough</th>\n",
       "      <th>area_km2</th>\n",
       "      <th>residents</th>\n",
       "      <th>density</th>\n",
       "      <th>lat</th>\n",
       "      <th>long</th>\n",
       "      <th>search_radius</th>\n",
       "    </tr>\n",
       "  </thead>\n",
       "  <tbody>\n",
       "    <tr>\n",
       "      <th>0</th>\n",
       "      <td>Altstadt-Lehel</td>\n",
       "      <td>315</td>\n",
       "      <td>21126</td>\n",
       "      <td>6.716</td>\n",
       "      <td>48.137828</td>\n",
       "      <td>11.574582</td>\n",
       "      <td>10013.0</td>\n",
       "    </tr>\n",
       "    <tr>\n",
       "      <th>1</th>\n",
       "      <td>Ludwigsvorstadt-Isarvorstadt</td>\n",
       "      <td>440</td>\n",
       "      <td>51933</td>\n",
       "      <td>11.799</td>\n",
       "      <td>48.130340</td>\n",
       "      <td>11.573366</td>\n",
       "      <td>11835.0</td>\n",
       "    </tr>\n",
       "    <tr>\n",
       "      <th>2</th>\n",
       "      <td>Maxvorstadt</td>\n",
       "      <td>430</td>\n",
       "      <td>51834</td>\n",
       "      <td>12.060</td>\n",
       "      <td>48.151092</td>\n",
       "      <td>11.562418</td>\n",
       "      <td>11699.0</td>\n",
       "    </tr>\n",
       "    <tr>\n",
       "      <th>3</th>\n",
       "      <td>Schwabing-West</td>\n",
       "      <td>436</td>\n",
       "      <td>68935</td>\n",
       "      <td>15.800</td>\n",
       "      <td>48.168271</td>\n",
       "      <td>11.569873</td>\n",
       "      <td>11781.0</td>\n",
       "    </tr>\n",
       "    <tr>\n",
       "      <th>4</th>\n",
       "      <td>Au-Haidhausen</td>\n",
       "      <td>422</td>\n",
       "      <td>61654</td>\n",
       "      <td>14.611</td>\n",
       "      <td>48.128753</td>\n",
       "      <td>11.590536</td>\n",
       "      <td>11590.0</td>\n",
       "    </tr>\n",
       "  </tbody>\n",
       "</table>\n",
       "</div>"
      ],
      "text/plain": [
       "                        borough  area_km2  residents  density        lat  \\\n",
       "0                Altstadt-Lehel       315      21126    6.716  48.137828   \n",
       "1  Ludwigsvorstadt-Isarvorstadt       440      51933   11.799  48.130340   \n",
       "2                   Maxvorstadt       430      51834   12.060  48.151092   \n",
       "3                Schwabing-West       436      68935   15.800  48.168271   \n",
       "4                 Au-Haidhausen       422      61654   14.611  48.128753   \n",
       "\n",
       "        long  search_radius  \n",
       "0  11.574582        10013.0  \n",
       "1  11.573366        11835.0  \n",
       "2  11.562418        11699.0  \n",
       "3  11.569873        11781.0  \n",
       "4  11.590536        11590.0  "
      ]
     },
     "execution_count": 30,
     "metadata": {},
     "output_type": "execute_result"
    }
   ],
   "source": [
    "# Including 'search_radius' column to be used on Foursqaure API searchs.\n",
    "\n",
    "df_munich['search_radius'] = df_munich['area_km2'].apply(lambda x: round(np.sqrt(x / np.pi) * 1000))\n",
    "df_munich.head()"
   ]
  },
  {
   "cell_type": "markdown",
   "metadata": {},
   "source": [
    "**After get the Munich map done for the first time, it was observed an \"outlier\". the \"Moosach\" borough has the same name as a german city and the geocode bring the city coordinates. So, the Moosach borough real coordinates are: 48.183333, 11.516667**"
   ]
  },
  {
   "cell_type": "code",
   "execution_count": 66,
   "metadata": {
    "ExecuteTime": {
     "end_time": "2021-02-19T10:19:50.401369Z",
     "start_time": "2021-02-19T10:19:50.362394Z"
    }
   },
   "outputs": [
    {
     "data": {
      "text/html": [
       "<div>\n",
       "<style scoped>\n",
       "    .dataframe tbody tr th:only-of-type {\n",
       "        vertical-align: middle;\n",
       "    }\n",
       "\n",
       "    .dataframe tbody tr th {\n",
       "        vertical-align: top;\n",
       "    }\n",
       "\n",
       "    .dataframe thead th {\n",
       "        text-align: right;\n",
       "    }\n",
       "</style>\n",
       "<table border=\"1\" class=\"dataframe\">\n",
       "  <thead>\n",
       "    <tr style=\"text-align: right;\">\n",
       "      <th></th>\n",
       "      <th>borough</th>\n",
       "      <th>area_km2</th>\n",
       "      <th>residents</th>\n",
       "      <th>density</th>\n",
       "      <th>lat</th>\n",
       "      <th>long</th>\n",
       "      <th>search_radius</th>\n",
       "    </tr>\n",
       "  </thead>\n",
       "  <tbody>\n",
       "    <tr>\n",
       "      <th>0</th>\n",
       "      <td>Altstadt-Lehel</td>\n",
       "      <td>315</td>\n",
       "      <td>21126</td>\n",
       "      <td>6.716</td>\n",
       "      <td>48.137828</td>\n",
       "      <td>11.574582</td>\n",
       "      <td>10013.0</td>\n",
       "    </tr>\n",
       "    <tr>\n",
       "      <th>1</th>\n",
       "      <td>Ludwigsvorstadt-Isarvorstadt</td>\n",
       "      <td>440</td>\n",
       "      <td>51933</td>\n",
       "      <td>11.799</td>\n",
       "      <td>48.130340</td>\n",
       "      <td>11.573366</td>\n",
       "      <td>11835.0</td>\n",
       "    </tr>\n",
       "    <tr>\n",
       "      <th>2</th>\n",
       "      <td>Maxvorstadt</td>\n",
       "      <td>430</td>\n",
       "      <td>51834</td>\n",
       "      <td>12.060</td>\n",
       "      <td>48.151092</td>\n",
       "      <td>11.562418</td>\n",
       "      <td>11699.0</td>\n",
       "    </tr>\n",
       "    <tr>\n",
       "      <th>3</th>\n",
       "      <td>Schwabing-West</td>\n",
       "      <td>436</td>\n",
       "      <td>68935</td>\n",
       "      <td>15.800</td>\n",
       "      <td>48.168271</td>\n",
       "      <td>11.569873</td>\n",
       "      <td>11781.0</td>\n",
       "    </tr>\n",
       "    <tr>\n",
       "      <th>4</th>\n",
       "      <td>Au-Haidhausen</td>\n",
       "      <td>422</td>\n",
       "      <td>61654</td>\n",
       "      <td>14.611</td>\n",
       "      <td>48.128753</td>\n",
       "      <td>11.590536</td>\n",
       "      <td>11590.0</td>\n",
       "    </tr>\n",
       "    <tr>\n",
       "      <th>5</th>\n",
       "      <td>Sendling</td>\n",
       "      <td>394</td>\n",
       "      <td>41256</td>\n",
       "      <td>10.475</td>\n",
       "      <td>48.118012</td>\n",
       "      <td>11.539083</td>\n",
       "      <td>11199.0</td>\n",
       "    </tr>\n",
       "    <tr>\n",
       "      <th>6</th>\n",
       "      <td>Sendling-Westpark</td>\n",
       "      <td>781</td>\n",
       "      <td>60498</td>\n",
       "      <td>7.742</td>\n",
       "      <td>48.118031</td>\n",
       "      <td>11.519333</td>\n",
       "      <td>15767.0</td>\n",
       "    </tr>\n",
       "    <tr>\n",
       "      <th>7</th>\n",
       "      <td>Schwanthalerhöhe</td>\n",
       "      <td>207</td>\n",
       "      <td>29611</td>\n",
       "      <td>14.303</td>\n",
       "      <td>48.133782</td>\n",
       "      <td>11.541057</td>\n",
       "      <td>8117.0</td>\n",
       "    </tr>\n",
       "    <tr>\n",
       "      <th>8</th>\n",
       "      <td>Neuhausen-Nymphenburg</td>\n",
       "      <td>1291</td>\n",
       "      <td>100213</td>\n",
       "      <td>7.760</td>\n",
       "      <td>48.154222</td>\n",
       "      <td>11.531517</td>\n",
       "      <td>20272.0</td>\n",
       "    </tr>\n",
       "    <tr>\n",
       "      <th>9</th>\n",
       "      <td>Moosach</td>\n",
       "      <td>1109</td>\n",
       "      <td>54872</td>\n",
       "      <td>4.946</td>\n",
       "      <td>48.183333</td>\n",
       "      <td>11.516667</td>\n",
       "      <td>18788.0</td>\n",
       "    </tr>\n",
       "    <tr>\n",
       "      <th>10</th>\n",
       "      <td>Milbertshofen-Am Hart</td>\n",
       "      <td>1342</td>\n",
       "      <td>76559</td>\n",
       "      <td>5.706</td>\n",
       "      <td>48.182385</td>\n",
       "      <td>11.575043</td>\n",
       "      <td>20668.0</td>\n",
       "    </tr>\n",
       "    <tr>\n",
       "      <th>11</th>\n",
       "      <td>Schwabing-Freimann</td>\n",
       "      <td>2567</td>\n",
       "      <td>78657</td>\n",
       "      <td>3.064</td>\n",
       "      <td>48.189278</td>\n",
       "      <td>11.608583</td>\n",
       "      <td>28585.0</td>\n",
       "    </tr>\n",
       "    <tr>\n",
       "      <th>12</th>\n",
       "      <td>Bogenhausen</td>\n",
       "      <td>2371</td>\n",
       "      <td>90025</td>\n",
       "      <td>3.797</td>\n",
       "      <td>48.154782</td>\n",
       "      <td>11.633484</td>\n",
       "      <td>27472.0</td>\n",
       "    </tr>\n",
       "    <tr>\n",
       "      <th>13</th>\n",
       "      <td>Berg am Laim</td>\n",
       "      <td>631</td>\n",
       "      <td>47000</td>\n",
       "      <td>7.443</td>\n",
       "      <td>48.123483</td>\n",
       "      <td>11.633451</td>\n",
       "      <td>14172.0</td>\n",
       "    </tr>\n",
       "    <tr>\n",
       "      <th>14</th>\n",
       "      <td>Trudering-Riem</td>\n",
       "      <td>2245</td>\n",
       "      <td>73479</td>\n",
       "      <td>3.273</td>\n",
       "      <td>48.123175</td>\n",
       "      <td>11.664078</td>\n",
       "      <td>26732.0</td>\n",
       "    </tr>\n",
       "    <tr>\n",
       "      <th>15</th>\n",
       "      <td>Ramersdorf-Perlach</td>\n",
       "      <td>1990</td>\n",
       "      <td>117918</td>\n",
       "      <td>5.927</td>\n",
       "      <td>48.100894</td>\n",
       "      <td>11.633371</td>\n",
       "      <td>25168.0</td>\n",
       "    </tr>\n",
       "    <tr>\n",
       "      <th>16</th>\n",
       "      <td>Obergiesing-Fasangarten</td>\n",
       "      <td>572</td>\n",
       "      <td>54498</td>\n",
       "      <td>9.527</td>\n",
       "      <td>48.111156</td>\n",
       "      <td>11.588909</td>\n",
       "      <td>13493.0</td>\n",
       "    </tr>\n",
       "    <tr>\n",
       "      <th>17</th>\n",
       "      <td>Untergiesing-Harlaching</td>\n",
       "      <td>806</td>\n",
       "      <td>53243</td>\n",
       "      <td>6.609</td>\n",
       "      <td>48.114963</td>\n",
       "      <td>11.570189</td>\n",
       "      <td>16017.0</td>\n",
       "    </tr>\n",
       "    <tr>\n",
       "      <th>18</th>\n",
       "      <td>Thalkirchen-Obersendling-Forstenried-Fürstenri...</td>\n",
       "      <td>1776</td>\n",
       "      <td>97689</td>\n",
       "      <td>5.500</td>\n",
       "      <td>48.084213</td>\n",
       "      <td>11.508051</td>\n",
       "      <td>23776.0</td>\n",
       "    </tr>\n",
       "    <tr>\n",
       "      <th>19</th>\n",
       "      <td>Hadern</td>\n",
       "      <td>922</td>\n",
       "      <td>50165</td>\n",
       "      <td>5.439</td>\n",
       "      <td>48.118064</td>\n",
       "      <td>11.481842</td>\n",
       "      <td>17131.0</td>\n",
       "    </tr>\n",
       "    <tr>\n",
       "      <th>20</th>\n",
       "      <td>Pasing-Obermenzing</td>\n",
       "      <td>1650</td>\n",
       "      <td>76348</td>\n",
       "      <td>4.628</td>\n",
       "      <td>48.152363</td>\n",
       "      <td>11.468434</td>\n",
       "      <td>22917.0</td>\n",
       "    </tr>\n",
       "    <tr>\n",
       "      <th>21</th>\n",
       "      <td>Aubing-Lochhausen-Langwied</td>\n",
       "      <td>3406</td>\n",
       "      <td>49072</td>\n",
       "      <td>1.441</td>\n",
       "      <td>48.165059</td>\n",
       "      <td>11.400221</td>\n",
       "      <td>32927.0</td>\n",
       "    </tr>\n",
       "    <tr>\n",
       "      <th>22</th>\n",
       "      <td>Allach-Untermenzing</td>\n",
       "      <td>1545</td>\n",
       "      <td>34277</td>\n",
       "      <td>2.218</td>\n",
       "      <td>48.195157</td>\n",
       "      <td>11.462973</td>\n",
       "      <td>22176.0</td>\n",
       "    </tr>\n",
       "    <tr>\n",
       "      <th>23</th>\n",
       "      <td>Feldmoching-Hasenbergl</td>\n",
       "      <td>2894</td>\n",
       "      <td>62069</td>\n",
       "      <td>2.145</td>\n",
       "      <td>48.218462</td>\n",
       "      <td>11.520409</td>\n",
       "      <td>30351.0</td>\n",
       "    </tr>\n",
       "    <tr>\n",
       "      <th>24</th>\n",
       "      <td>Laim</td>\n",
       "      <td>529</td>\n",
       "      <td>57111</td>\n",
       "      <td>10.804</td>\n",
       "      <td>45.865249</td>\n",
       "      <td>11.177422</td>\n",
       "      <td>12976.0</td>\n",
       "    </tr>\n",
       "    <tr>\n",
       "      <th>25</th>\n",
       "      <td>Landeshauptstadt München</td>\n",
       "      <td>31071</td>\n",
       "      <td>1560042</td>\n",
       "      <td>5.021</td>\n",
       "      <td>48.116221</td>\n",
       "      <td>11.479514</td>\n",
       "      <td>99450.0</td>\n",
       "    </tr>\n",
       "  </tbody>\n",
       "</table>\n",
       "</div>"
      ],
      "text/plain": [
       "                                              borough  area_km2  residents  \\\n",
       "0                                      Altstadt-Lehel       315      21126   \n",
       "1                        Ludwigsvorstadt-Isarvorstadt       440      51933   \n",
       "2                                         Maxvorstadt       430      51834   \n",
       "3                                      Schwabing-West       436      68935   \n",
       "4                                       Au-Haidhausen       422      61654   \n",
       "5                                            Sendling       394      41256   \n",
       "6                                   Sendling-Westpark       781      60498   \n",
       "7                                    Schwanthalerhöhe       207      29611   \n",
       "8                               Neuhausen-Nymphenburg      1291     100213   \n",
       "9                                             Moosach      1109      54872   \n",
       "10                              Milbertshofen-Am Hart      1342      76559   \n",
       "11                                 Schwabing-Freimann      2567      78657   \n",
       "12                                        Bogenhausen      2371      90025   \n",
       "13                                       Berg am Laim       631      47000   \n",
       "14                                     Trudering-Riem      2245      73479   \n",
       "15                                 Ramersdorf-Perlach      1990     117918   \n",
       "16                            Obergiesing-Fasangarten       572      54498   \n",
       "17                            Untergiesing-Harlaching       806      53243   \n",
       "18  Thalkirchen-Obersendling-Forstenried-Fürstenri...      1776      97689   \n",
       "19                                             Hadern       922      50165   \n",
       "20                                 Pasing-Obermenzing      1650      76348   \n",
       "21                         Aubing-Lochhausen-Langwied      3406      49072   \n",
       "22                                Allach-Untermenzing      1545      34277   \n",
       "23                             Feldmoching-Hasenbergl      2894      62069   \n",
       "24                                               Laim       529      57111   \n",
       "25                           Landeshauptstadt München     31071    1560042   \n",
       "\n",
       "    density        lat       long  search_radius  \n",
       "0     6.716  48.137828  11.574582        10013.0  \n",
       "1    11.799  48.130340  11.573366        11835.0  \n",
       "2    12.060  48.151092  11.562418        11699.0  \n",
       "3    15.800  48.168271  11.569873        11781.0  \n",
       "4    14.611  48.128753  11.590536        11590.0  \n",
       "5    10.475  48.118012  11.539083        11199.0  \n",
       "6     7.742  48.118031  11.519333        15767.0  \n",
       "7    14.303  48.133782  11.541057         8117.0  \n",
       "8     7.760  48.154222  11.531517        20272.0  \n",
       "9     4.946  48.183333  11.516667        18788.0  \n",
       "10    5.706  48.182385  11.575043        20668.0  \n",
       "11    3.064  48.189278  11.608583        28585.0  \n",
       "12    3.797  48.154782  11.633484        27472.0  \n",
       "13    7.443  48.123483  11.633451        14172.0  \n",
       "14    3.273  48.123175  11.664078        26732.0  \n",
       "15    5.927  48.100894  11.633371        25168.0  \n",
       "16    9.527  48.111156  11.588909        13493.0  \n",
       "17    6.609  48.114963  11.570189        16017.0  \n",
       "18    5.500  48.084213  11.508051        23776.0  \n",
       "19    5.439  48.118064  11.481842        17131.0  \n",
       "20    4.628  48.152363  11.468434        22917.0  \n",
       "21    1.441  48.165059  11.400221        32927.0  \n",
       "22    2.218  48.195157  11.462973        22176.0  \n",
       "23    2.145  48.218462  11.520409        30351.0  \n",
       "24   10.804  45.865249  11.177422        12976.0  \n",
       "25    5.021  48.116221  11.479514        99450.0  "
      ]
     },
     "execution_count": 66,
     "metadata": {},
     "output_type": "execute_result"
    }
   ],
   "source": [
    "df_munich.loc[9] = ['Moosach', 1109, 54872, 4.946, 48.183333, 11.516667, 18788.0]\n",
    "df_munich"
   ]
  },
  {
   "cell_type": "code",
   "execution_count": 67,
   "metadata": {
    "ExecuteTime": {
     "end_time": "2021-02-19T10:20:09.030473Z",
     "start_time": "2021-02-19T10:20:08.539777Z"
    }
   },
   "outputs": [
    {
     "data": {
      "text/html": [
       "<div style=\"width:100%;\"><div style=\"position:relative;width:100%;height:0;padding-bottom:60%;\"><span style=\"color:#565656\">Make this Notebook Trusted to load map: File -> Trust Notebook</span><iframe src=\"about:blank\" style=\"position:absolute;width:100%;height:100%;left:0;top:0;border:none !important;\" data-html=%3C%21DOCTYPE%20html%3E%0A%3Chead%3E%20%20%20%20%0A%20%20%20%20%3Cmeta%20http-equiv%3D%22content-type%22%20content%3D%22text/html%3B%20charset%3DUTF-8%22%20/%3E%0A%20%20%20%20%3Cscript%3EL_PREFER_CANVAS%20%3D%20false%3B%20L_NO_TOUCH%20%3D%20false%3B%20L_DISABLE_3D%20%3D%20false%3B%3C/script%3E%0A%20%20%20%20%3Cscript%20src%3D%22https%3A//cdn.jsdelivr.net/npm/leaflet%401.2.0/dist/leaflet.js%22%3E%3C/script%3E%0A%20%20%20%20%3Cscript%20src%3D%22https%3A//ajax.googleapis.com/ajax/libs/jquery/1.11.1/jquery.min.js%22%3E%3C/script%3E%0A%20%20%20%20%3Cscript%20src%3D%22https%3A//maxcdn.bootstrapcdn.com/bootstrap/3.2.0/js/bootstrap.min.js%22%3E%3C/script%3E%0A%20%20%20%20%3Cscript%20src%3D%22https%3A//cdnjs.cloudflare.com/ajax/libs/Leaflet.awesome-markers/2.0.2/leaflet.awesome-markers.js%22%3E%3C/script%3E%0A%20%20%20%20%3Clink%20rel%3D%22stylesheet%22%20href%3D%22https%3A//cdn.jsdelivr.net/npm/leaflet%401.2.0/dist/leaflet.css%22/%3E%0A%20%20%20%20%3Clink%20rel%3D%22stylesheet%22%20href%3D%22https%3A//maxcdn.bootstrapcdn.com/bootstrap/3.2.0/css/bootstrap.min.css%22/%3E%0A%20%20%20%20%3Clink%20rel%3D%22stylesheet%22%20href%3D%22https%3A//maxcdn.bootstrapcdn.com/bootstrap/3.2.0/css/bootstrap-theme.min.css%22/%3E%0A%20%20%20%20%3Clink%20rel%3D%22stylesheet%22%20href%3D%22https%3A//maxcdn.bootstrapcdn.com/font-awesome/4.6.3/css/font-awesome.min.css%22/%3E%0A%20%20%20%20%3Clink%20rel%3D%22stylesheet%22%20href%3D%22https%3A//cdnjs.cloudflare.com/ajax/libs/Leaflet.awesome-markers/2.0.2/leaflet.awesome-markers.css%22/%3E%0A%20%20%20%20%3Clink%20rel%3D%22stylesheet%22%20href%3D%22https%3A//rawgit.com/python-visualization/folium/master/folium/templates/leaflet.awesome.rotate.css%22/%3E%0A%20%20%20%20%3Cstyle%3Ehtml%2C%20body%20%7Bwidth%3A%20100%25%3Bheight%3A%20100%25%3Bmargin%3A%200%3Bpadding%3A%200%3B%7D%3C/style%3E%0A%20%20%20%20%3Cstyle%3E%23map%20%7Bposition%3Aabsolute%3Btop%3A0%3Bbottom%3A0%3Bright%3A0%3Bleft%3A0%3B%7D%3C/style%3E%0A%20%20%20%20%0A%20%20%20%20%20%20%20%20%20%20%20%20%3Cstyle%3E%20%23map_ec698402f338468cadfd71cb66bfc0ae%20%7B%0A%20%20%20%20%20%20%20%20%20%20%20%20%20%20%20%20position%20%3A%20relative%3B%0A%20%20%20%20%20%20%20%20%20%20%20%20%20%20%20%20width%20%3A%20100.0%25%3B%0A%20%20%20%20%20%20%20%20%20%20%20%20%20%20%20%20height%3A%20100.0%25%3B%0A%20%20%20%20%20%20%20%20%20%20%20%20%20%20%20%20left%3A%200.0%25%3B%0A%20%20%20%20%20%20%20%20%20%20%20%20%20%20%20%20top%3A%200.0%25%3B%0A%20%20%20%20%20%20%20%20%20%20%20%20%20%20%20%20%7D%0A%20%20%20%20%20%20%20%20%20%20%20%20%3C/style%3E%0A%20%20%20%20%20%20%20%20%0A%3C/head%3E%0A%3Cbody%3E%20%20%20%20%0A%20%20%20%20%0A%20%20%20%20%20%20%20%20%20%20%20%20%3Cdiv%20class%3D%22folium-map%22%20id%3D%22map_ec698402f338468cadfd71cb66bfc0ae%22%20%3E%3C/div%3E%0A%20%20%20%20%20%20%20%20%0A%3C/body%3E%0A%3Cscript%3E%20%20%20%20%0A%20%20%20%20%0A%0A%20%20%20%20%20%20%20%20%20%20%20%20%0A%20%20%20%20%20%20%20%20%20%20%20%20%20%20%20%20var%20bounds%20%3D%20null%3B%0A%20%20%20%20%20%20%20%20%20%20%20%20%0A%0A%20%20%20%20%20%20%20%20%20%20%20%20var%20map_ec698402f338468cadfd71cb66bfc0ae%20%3D%20L.map%28%0A%20%20%20%20%20%20%20%20%20%20%20%20%20%20%20%20%20%20%20%20%20%20%20%20%20%20%20%20%20%20%20%20%20%20%27map_ec698402f338468cadfd71cb66bfc0ae%27%2C%0A%20%20%20%20%20%20%20%20%20%20%20%20%20%20%20%20%20%20%20%20%20%20%20%20%20%20%20%20%20%20%20%20%20%20%7Bcenter%3A%20%5B48.116221%2C11.4795136%5D%2C%0A%20%20%20%20%20%20%20%20%20%20%20%20%20%20%20%20%20%20%20%20%20%20%20%20%20%20%20%20%20%20%20%20%20%20zoom%3A%2010%2C%0A%20%20%20%20%20%20%20%20%20%20%20%20%20%20%20%20%20%20%20%20%20%20%20%20%20%20%20%20%20%20%20%20%20%20maxBounds%3A%20bounds%2C%0A%20%20%20%20%20%20%20%20%20%20%20%20%20%20%20%20%20%20%20%20%20%20%20%20%20%20%20%20%20%20%20%20%20%20layers%3A%20%5B%5D%2C%0A%20%20%20%20%20%20%20%20%20%20%20%20%20%20%20%20%20%20%20%20%20%20%20%20%20%20%20%20%20%20%20%20%20%20worldCopyJump%3A%20false%2C%0A%20%20%20%20%20%20%20%20%20%20%20%20%20%20%20%20%20%20%20%20%20%20%20%20%20%20%20%20%20%20%20%20%20%20crs%3A%20L.CRS.EPSG3857%0A%20%20%20%20%20%20%20%20%20%20%20%20%20%20%20%20%20%20%20%20%20%20%20%20%20%20%20%20%20%20%20%20%20%7D%29%3B%0A%20%20%20%20%20%20%20%20%20%20%20%20%0A%20%20%20%20%20%20%20%20%0A%20%20%20%20%0A%20%20%20%20%20%20%20%20%20%20%20%20var%20tile_layer_e89da4a196a3483d84b024481f5c1045%20%3D%20L.tileLayer%28%0A%20%20%20%20%20%20%20%20%20%20%20%20%20%20%20%20%27https%3A//%7Bs%7D.tile.openstreetmap.org/%7Bz%7D/%7Bx%7D/%7By%7D.png%27%2C%0A%20%20%20%20%20%20%20%20%20%20%20%20%20%20%20%20%7B%0A%20%20%22attribution%22%3A%20null%2C%0A%20%20%22detectRetina%22%3A%20false%2C%0A%20%20%22maxZoom%22%3A%2018%2C%0A%20%20%22minZoom%22%3A%201%2C%0A%20%20%22noWrap%22%3A%20false%2C%0A%20%20%22subdomains%22%3A%20%22abc%22%0A%7D%0A%20%20%20%20%20%20%20%20%20%20%20%20%20%20%20%20%29.addTo%28map_ec698402f338468cadfd71cb66bfc0ae%29%3B%0A%20%20%20%20%20%20%20%20%0A%20%20%20%20%0A%20%20%20%20%20%20%20%20%20%20%20%20var%20circle_marker_c9a98b1e3f484ba695c04c1c99a3c04d%20%3D%20L.circleMarker%28%0A%20%20%20%20%20%20%20%20%20%20%20%20%20%20%20%20%5B48.1378285%2C11.5745823%5D%2C%0A%20%20%20%20%20%20%20%20%20%20%20%20%20%20%20%20%7B%0A%20%20%22bubblingMouseEvents%22%3A%20true%2C%0A%20%20%22color%22%3A%20%22blue%22%2C%0A%20%20%22dashArray%22%3A%20null%2C%0A%20%20%22dashOffset%22%3A%20null%2C%0A%20%20%22fill%22%3A%20true%2C%0A%20%20%22fillColor%22%3A%20%22darkblue%22%2C%0A%20%20%22fillOpacity%22%3A%200.7%2C%0A%20%20%22fillRule%22%3A%20%22evenodd%22%2C%0A%20%20%22lineCap%22%3A%20%22round%22%2C%0A%20%20%22lineJoin%22%3A%20%22round%22%2C%0A%20%20%22opacity%22%3A%201.0%2C%0A%20%20%22radius%22%3A%205%2C%0A%20%20%22stroke%22%3A%20true%2C%0A%20%20%22weight%22%3A%203%0A%7D%0A%20%20%20%20%20%20%20%20%20%20%20%20%20%20%20%20%29.addTo%28map_ec698402f338468cadfd71cb66bfc0ae%29%3B%0A%20%20%20%20%20%20%20%20%20%20%20%20%0A%20%20%20%20%0A%20%20%20%20%20%20%20%20%20%20%20%20var%20popup_f145cf4a6a1140b49240866523cc4dbd%20%3D%20L.popup%28%7BmaxWidth%3A%20%27300%27%7D%29%3B%0A%0A%20%20%20%20%20%20%20%20%20%20%20%20%0A%20%20%20%20%20%20%20%20%20%20%20%20%20%20%20%20var%20html_cb73f5545ed9436f8731b48a5f405b31%20%3D%20%24%28%27%3Cdiv%20id%3D%22html_cb73f5545ed9436f8731b48a5f405b31%22%20style%3D%22width%3A%20100.0%25%3B%20height%3A%20100.0%25%3B%22%3EAltstadt-Lehel%20-%20Pop%3A%2021126%3C/div%3E%27%29%5B0%5D%3B%0A%20%20%20%20%20%20%20%20%20%20%20%20%20%20%20%20popup_f145cf4a6a1140b49240866523cc4dbd.setContent%28html_cb73f5545ed9436f8731b48a5f405b31%29%3B%0A%20%20%20%20%20%20%20%20%20%20%20%20%0A%0A%20%20%20%20%20%20%20%20%20%20%20%20circle_marker_c9a98b1e3f484ba695c04c1c99a3c04d.bindPopup%28popup_f145cf4a6a1140b49240866523cc4dbd%29%3B%0A%0A%20%20%20%20%20%20%20%20%20%20%20%20%0A%20%20%20%20%20%20%20%20%0A%20%20%20%20%0A%20%20%20%20%20%20%20%20%20%20%20%20var%20circle_marker_ca0aee1449de4284a289f60eb3b684f8%20%3D%20L.circleMarker%28%0A%20%20%20%20%20%20%20%20%20%20%20%20%20%20%20%20%5B48.1303398%2C11.5733658%5D%2C%0A%20%20%20%20%20%20%20%20%20%20%20%20%20%20%20%20%7B%0A%20%20%22bubblingMouseEvents%22%3A%20true%2C%0A%20%20%22color%22%3A%20%22blue%22%2C%0A%20%20%22dashArray%22%3A%20null%2C%0A%20%20%22dashOffset%22%3A%20null%2C%0A%20%20%22fill%22%3A%20true%2C%0A%20%20%22fillColor%22%3A%20%22darkblue%22%2C%0A%20%20%22fillOpacity%22%3A%200.7%2C%0A%20%20%22fillRule%22%3A%20%22evenodd%22%2C%0A%20%20%22lineCap%22%3A%20%22round%22%2C%0A%20%20%22lineJoin%22%3A%20%22round%22%2C%0A%20%20%22opacity%22%3A%201.0%2C%0A%20%20%22radius%22%3A%205%2C%0A%20%20%22stroke%22%3A%20true%2C%0A%20%20%22weight%22%3A%203%0A%7D%0A%20%20%20%20%20%20%20%20%20%20%20%20%20%20%20%20%29.addTo%28map_ec698402f338468cadfd71cb66bfc0ae%29%3B%0A%20%20%20%20%20%20%20%20%20%20%20%20%0A%20%20%20%20%0A%20%20%20%20%20%20%20%20%20%20%20%20var%20popup_f2a1aefbe0e2417d8aa999b0a3abf939%20%3D%20L.popup%28%7BmaxWidth%3A%20%27300%27%7D%29%3B%0A%0A%20%20%20%20%20%20%20%20%20%20%20%20%0A%20%20%20%20%20%20%20%20%20%20%20%20%20%20%20%20var%20html_50736d46e16e402a8e562db3c11eed66%20%3D%20%24%28%27%3Cdiv%20id%3D%22html_50736d46e16e402a8e562db3c11eed66%22%20style%3D%22width%3A%20100.0%25%3B%20height%3A%20100.0%25%3B%22%3ELudwigsvorstadt-Isarvorstadt%20-%20Pop%3A%2051933%3C/div%3E%27%29%5B0%5D%3B%0A%20%20%20%20%20%20%20%20%20%20%20%20%20%20%20%20popup_f2a1aefbe0e2417d8aa999b0a3abf939.setContent%28html_50736d46e16e402a8e562db3c11eed66%29%3B%0A%20%20%20%20%20%20%20%20%20%20%20%20%0A%0A%20%20%20%20%20%20%20%20%20%20%20%20circle_marker_ca0aee1449de4284a289f60eb3b684f8.bindPopup%28popup_f2a1aefbe0e2417d8aa999b0a3abf939%29%3B%0A%0A%20%20%20%20%20%20%20%20%20%20%20%20%0A%20%20%20%20%20%20%20%20%0A%20%20%20%20%0A%20%20%20%20%20%20%20%20%20%20%20%20var%20circle_marker_5750d33aa6f9468b98a4c35b1080e4ab%20%3D%20L.circleMarker%28%0A%20%20%20%20%20%20%20%20%20%20%20%20%20%20%20%20%5B48.1510916%2C11.5624179%5D%2C%0A%20%20%20%20%20%20%20%20%20%20%20%20%20%20%20%20%7B%0A%20%20%22bubblingMouseEvents%22%3A%20true%2C%0A%20%20%22color%22%3A%20%22blue%22%2C%0A%20%20%22dashArray%22%3A%20null%2C%0A%20%20%22dashOffset%22%3A%20null%2C%0A%20%20%22fill%22%3A%20true%2C%0A%20%20%22fillColor%22%3A%20%22darkblue%22%2C%0A%20%20%22fillOpacity%22%3A%200.7%2C%0A%20%20%22fillRule%22%3A%20%22evenodd%22%2C%0A%20%20%22lineCap%22%3A%20%22round%22%2C%0A%20%20%22lineJoin%22%3A%20%22round%22%2C%0A%20%20%22opacity%22%3A%201.0%2C%0A%20%20%22radius%22%3A%205%2C%0A%20%20%22stroke%22%3A%20true%2C%0A%20%20%22weight%22%3A%203%0A%7D%0A%20%20%20%20%20%20%20%20%20%20%20%20%20%20%20%20%29.addTo%28map_ec698402f338468cadfd71cb66bfc0ae%29%3B%0A%20%20%20%20%20%20%20%20%20%20%20%20%0A%20%20%20%20%0A%20%20%20%20%20%20%20%20%20%20%20%20var%20popup_2960a9cfcf8e431aafba9515c3268483%20%3D%20L.popup%28%7BmaxWidth%3A%20%27300%27%7D%29%3B%0A%0A%20%20%20%20%20%20%20%20%20%20%20%20%0A%20%20%20%20%20%20%20%20%20%20%20%20%20%20%20%20var%20html_91aea18223fc48aabbb9ee6458488b11%20%3D%20%24%28%27%3Cdiv%20id%3D%22html_91aea18223fc48aabbb9ee6458488b11%22%20style%3D%22width%3A%20100.0%25%3B%20height%3A%20100.0%25%3B%22%3EMaxvorstadt%20-%20Pop%3A%2051834%3C/div%3E%27%29%5B0%5D%3B%0A%20%20%20%20%20%20%20%20%20%20%20%20%20%20%20%20popup_2960a9cfcf8e431aafba9515c3268483.setContent%28html_91aea18223fc48aabbb9ee6458488b11%29%3B%0A%20%20%20%20%20%20%20%20%20%20%20%20%0A%0A%20%20%20%20%20%20%20%20%20%20%20%20circle_marker_5750d33aa6f9468b98a4c35b1080e4ab.bindPopup%28popup_2960a9cfcf8e431aafba9515c3268483%29%3B%0A%0A%20%20%20%20%20%20%20%20%20%20%20%20%0A%20%20%20%20%20%20%20%20%0A%20%20%20%20%0A%20%20%20%20%20%20%20%20%20%20%20%20var%20circle_marker_41edc031a9bc45bdb82952846cb71ec8%20%3D%20L.circleMarker%28%0A%20%20%20%20%20%20%20%20%20%20%20%20%20%20%20%20%5B48.1682709%2C11.5698727%5D%2C%0A%20%20%20%20%20%20%20%20%20%20%20%20%20%20%20%20%7B%0A%20%20%22bubblingMouseEvents%22%3A%20true%2C%0A%20%20%22color%22%3A%20%22blue%22%2C%0A%20%20%22dashArray%22%3A%20null%2C%0A%20%20%22dashOffset%22%3A%20null%2C%0A%20%20%22fill%22%3A%20true%2C%0A%20%20%22fillColor%22%3A%20%22darkblue%22%2C%0A%20%20%22fillOpacity%22%3A%200.7%2C%0A%20%20%22fillRule%22%3A%20%22evenodd%22%2C%0A%20%20%22lineCap%22%3A%20%22round%22%2C%0A%20%20%22lineJoin%22%3A%20%22round%22%2C%0A%20%20%22opacity%22%3A%201.0%2C%0A%20%20%22radius%22%3A%205%2C%0A%20%20%22stroke%22%3A%20true%2C%0A%20%20%22weight%22%3A%203%0A%7D%0A%20%20%20%20%20%20%20%20%20%20%20%20%20%20%20%20%29.addTo%28map_ec698402f338468cadfd71cb66bfc0ae%29%3B%0A%20%20%20%20%20%20%20%20%20%20%20%20%0A%20%20%20%20%0A%20%20%20%20%20%20%20%20%20%20%20%20var%20popup_d3fad0acda914ffb933d18b6c10ac04b%20%3D%20L.popup%28%7BmaxWidth%3A%20%27300%27%7D%29%3B%0A%0A%20%20%20%20%20%20%20%20%20%20%20%20%0A%20%20%20%20%20%20%20%20%20%20%20%20%20%20%20%20var%20html_166cd9081cb347bc9d38c5cce365c1d6%20%3D%20%24%28%27%3Cdiv%20id%3D%22html_166cd9081cb347bc9d38c5cce365c1d6%22%20style%3D%22width%3A%20100.0%25%3B%20height%3A%20100.0%25%3B%22%3ESchwabing-West%20-%20Pop%3A%2068935%3C/div%3E%27%29%5B0%5D%3B%0A%20%20%20%20%20%20%20%20%20%20%20%20%20%20%20%20popup_d3fad0acda914ffb933d18b6c10ac04b.setContent%28html_166cd9081cb347bc9d38c5cce365c1d6%29%3B%0A%20%20%20%20%20%20%20%20%20%20%20%20%0A%0A%20%20%20%20%20%20%20%20%20%20%20%20circle_marker_41edc031a9bc45bdb82952846cb71ec8.bindPopup%28popup_d3fad0acda914ffb933d18b6c10ac04b%29%3B%0A%0A%20%20%20%20%20%20%20%20%20%20%20%20%0A%20%20%20%20%20%20%20%20%0A%20%20%20%20%0A%20%20%20%20%20%20%20%20%20%20%20%20var%20circle_marker_e46b8c95bdfb4880adf25048c47f480f%20%3D%20L.circleMarker%28%0A%20%20%20%20%20%20%20%20%20%20%20%20%20%20%20%20%5B48.1287531%2C11.5905362%5D%2C%0A%20%20%20%20%20%20%20%20%20%20%20%20%20%20%20%20%7B%0A%20%20%22bubblingMouseEvents%22%3A%20true%2C%0A%20%20%22color%22%3A%20%22blue%22%2C%0A%20%20%22dashArray%22%3A%20null%2C%0A%20%20%22dashOffset%22%3A%20null%2C%0A%20%20%22fill%22%3A%20true%2C%0A%20%20%22fillColor%22%3A%20%22darkblue%22%2C%0A%20%20%22fillOpacity%22%3A%200.7%2C%0A%20%20%22fillRule%22%3A%20%22evenodd%22%2C%0A%20%20%22lineCap%22%3A%20%22round%22%2C%0A%20%20%22lineJoin%22%3A%20%22round%22%2C%0A%20%20%22opacity%22%3A%201.0%2C%0A%20%20%22radius%22%3A%205%2C%0A%20%20%22stroke%22%3A%20true%2C%0A%20%20%22weight%22%3A%203%0A%7D%0A%20%20%20%20%20%20%20%20%20%20%20%20%20%20%20%20%29.addTo%28map_ec698402f338468cadfd71cb66bfc0ae%29%3B%0A%20%20%20%20%20%20%20%20%20%20%20%20%0A%20%20%20%20%0A%20%20%20%20%20%20%20%20%20%20%20%20var%20popup_21dbffc9b0b542e7bc1769a7b3b79e59%20%3D%20L.popup%28%7BmaxWidth%3A%20%27300%27%7D%29%3B%0A%0A%20%20%20%20%20%20%20%20%20%20%20%20%0A%20%20%20%20%20%20%20%20%20%20%20%20%20%20%20%20var%20html_c54f35beaee44816951a411fe28ab70c%20%3D%20%24%28%27%3Cdiv%20id%3D%22html_c54f35beaee44816951a411fe28ab70c%22%20style%3D%22width%3A%20100.0%25%3B%20height%3A%20100.0%25%3B%22%3EAu-Haidhausen%20-%20Pop%3A%2061654%3C/div%3E%27%29%5B0%5D%3B%0A%20%20%20%20%20%20%20%20%20%20%20%20%20%20%20%20popup_21dbffc9b0b542e7bc1769a7b3b79e59.setContent%28html_c54f35beaee44816951a411fe28ab70c%29%3B%0A%20%20%20%20%20%20%20%20%20%20%20%20%0A%0A%20%20%20%20%20%20%20%20%20%20%20%20circle_marker_e46b8c95bdfb4880adf25048c47f480f.bindPopup%28popup_21dbffc9b0b542e7bc1769a7b3b79e59%29%3B%0A%0A%20%20%20%20%20%20%20%20%20%20%20%20%0A%20%20%20%20%20%20%20%20%0A%20%20%20%20%0A%20%20%20%20%20%20%20%20%20%20%20%20var%20circle_marker_5a07dab54a0646b28f78bf3371a85fc1%20%3D%20L.circleMarker%28%0A%20%20%20%20%20%20%20%20%20%20%20%20%20%20%20%20%5B48.1180125%2C11.5390832%5D%2C%0A%20%20%20%20%20%20%20%20%20%20%20%20%20%20%20%20%7B%0A%20%20%22bubblingMouseEvents%22%3A%20true%2C%0A%20%20%22color%22%3A%20%22blue%22%2C%0A%20%20%22dashArray%22%3A%20null%2C%0A%20%20%22dashOffset%22%3A%20null%2C%0A%20%20%22fill%22%3A%20true%2C%0A%20%20%22fillColor%22%3A%20%22darkblue%22%2C%0A%20%20%22fillOpacity%22%3A%200.7%2C%0A%20%20%22fillRule%22%3A%20%22evenodd%22%2C%0A%20%20%22lineCap%22%3A%20%22round%22%2C%0A%20%20%22lineJoin%22%3A%20%22round%22%2C%0A%20%20%22opacity%22%3A%201.0%2C%0A%20%20%22radius%22%3A%205%2C%0A%20%20%22stroke%22%3A%20true%2C%0A%20%20%22weight%22%3A%203%0A%7D%0A%20%20%20%20%20%20%20%20%20%20%20%20%20%20%20%20%29.addTo%28map_ec698402f338468cadfd71cb66bfc0ae%29%3B%0A%20%20%20%20%20%20%20%20%20%20%20%20%0A%20%20%20%20%0A%20%20%20%20%20%20%20%20%20%20%20%20var%20popup_379f171f549548889cb07d0794d80bf2%20%3D%20L.popup%28%7BmaxWidth%3A%20%27300%27%7D%29%3B%0A%0A%20%20%20%20%20%20%20%20%20%20%20%20%0A%20%20%20%20%20%20%20%20%20%20%20%20%20%20%20%20var%20html_789c4beb1d3d4c92856b08dde3ef2204%20%3D%20%24%28%27%3Cdiv%20id%3D%22html_789c4beb1d3d4c92856b08dde3ef2204%22%20style%3D%22width%3A%20100.0%25%3B%20height%3A%20100.0%25%3B%22%3ESendling%20-%20Pop%3A%2041256%3C/div%3E%27%29%5B0%5D%3B%0A%20%20%20%20%20%20%20%20%20%20%20%20%20%20%20%20popup_379f171f549548889cb07d0794d80bf2.setContent%28html_789c4beb1d3d4c92856b08dde3ef2204%29%3B%0A%20%20%20%20%20%20%20%20%20%20%20%20%0A%0A%20%20%20%20%20%20%20%20%20%20%20%20circle_marker_5a07dab54a0646b28f78bf3371a85fc1.bindPopup%28popup_379f171f549548889cb07d0794d80bf2%29%3B%0A%0A%20%20%20%20%20%20%20%20%20%20%20%20%0A%20%20%20%20%20%20%20%20%0A%20%20%20%20%0A%20%20%20%20%20%20%20%20%20%20%20%20var%20circle_marker_9008fd13672a4af4827af01f9be4c369%20%3D%20L.circleMarker%28%0A%20%20%20%20%20%20%20%20%20%20%20%20%20%20%20%20%5B48.11803085%2C11.519332770284128%5D%2C%0A%20%20%20%20%20%20%20%20%20%20%20%20%20%20%20%20%7B%0A%20%20%22bubblingMouseEvents%22%3A%20true%2C%0A%20%20%22color%22%3A%20%22blue%22%2C%0A%20%20%22dashArray%22%3A%20null%2C%0A%20%20%22dashOffset%22%3A%20null%2C%0A%20%20%22fill%22%3A%20true%2C%0A%20%20%22fillColor%22%3A%20%22darkblue%22%2C%0A%20%20%22fillOpacity%22%3A%200.7%2C%0A%20%20%22fillRule%22%3A%20%22evenodd%22%2C%0A%20%20%22lineCap%22%3A%20%22round%22%2C%0A%20%20%22lineJoin%22%3A%20%22round%22%2C%0A%20%20%22opacity%22%3A%201.0%2C%0A%20%20%22radius%22%3A%205%2C%0A%20%20%22stroke%22%3A%20true%2C%0A%20%20%22weight%22%3A%203%0A%7D%0A%20%20%20%20%20%20%20%20%20%20%20%20%20%20%20%20%29.addTo%28map_ec698402f338468cadfd71cb66bfc0ae%29%3B%0A%20%20%20%20%20%20%20%20%20%20%20%20%0A%20%20%20%20%0A%20%20%20%20%20%20%20%20%20%20%20%20var%20popup_6415584199d5445aadfb4646a5defbcb%20%3D%20L.popup%28%7BmaxWidth%3A%20%27300%27%7D%29%3B%0A%0A%20%20%20%20%20%20%20%20%20%20%20%20%0A%20%20%20%20%20%20%20%20%20%20%20%20%20%20%20%20var%20html_5592a6714cda4777864798f0ab78c976%20%3D%20%24%28%27%3Cdiv%20id%3D%22html_5592a6714cda4777864798f0ab78c976%22%20style%3D%22width%3A%20100.0%25%3B%20height%3A%20100.0%25%3B%22%3ESendling-Westpark%20-%20Pop%3A%2060498%3C/div%3E%27%29%5B0%5D%3B%0A%20%20%20%20%20%20%20%20%20%20%20%20%20%20%20%20popup_6415584199d5445aadfb4646a5defbcb.setContent%28html_5592a6714cda4777864798f0ab78c976%29%3B%0A%20%20%20%20%20%20%20%20%20%20%20%20%0A%0A%20%20%20%20%20%20%20%20%20%20%20%20circle_marker_9008fd13672a4af4827af01f9be4c369.bindPopup%28popup_6415584199d5445aadfb4646a5defbcb%29%3B%0A%0A%20%20%20%20%20%20%20%20%20%20%20%20%0A%20%20%20%20%20%20%20%20%0A%20%20%20%20%0A%20%20%20%20%20%20%20%20%20%20%20%20var%20circle_marker_384f9159309143a4b8d62b69c11f9d8c%20%3D%20L.circleMarker%28%0A%20%20%20%20%20%20%20%20%20%20%20%20%20%20%20%20%5B48.1337822%2C11.5410566%5D%2C%0A%20%20%20%20%20%20%20%20%20%20%20%20%20%20%20%20%7B%0A%20%20%22bubblingMouseEvents%22%3A%20true%2C%0A%20%20%22color%22%3A%20%22blue%22%2C%0A%20%20%22dashArray%22%3A%20null%2C%0A%20%20%22dashOffset%22%3A%20null%2C%0A%20%20%22fill%22%3A%20true%2C%0A%20%20%22fillColor%22%3A%20%22darkblue%22%2C%0A%20%20%22fillOpacity%22%3A%200.7%2C%0A%20%20%22fillRule%22%3A%20%22evenodd%22%2C%0A%20%20%22lineCap%22%3A%20%22round%22%2C%0A%20%20%22lineJoin%22%3A%20%22round%22%2C%0A%20%20%22opacity%22%3A%201.0%2C%0A%20%20%22radius%22%3A%205%2C%0A%20%20%22stroke%22%3A%20true%2C%0A%20%20%22weight%22%3A%203%0A%7D%0A%20%20%20%20%20%20%20%20%20%20%20%20%20%20%20%20%29.addTo%28map_ec698402f338468cadfd71cb66bfc0ae%29%3B%0A%20%20%20%20%20%20%20%20%20%20%20%20%0A%20%20%20%20%0A%20%20%20%20%20%20%20%20%20%20%20%20var%20popup_c4a313cc700c440484b2d1fc0559805f%20%3D%20L.popup%28%7BmaxWidth%3A%20%27300%27%7D%29%3B%0A%0A%20%20%20%20%20%20%20%20%20%20%20%20%0A%20%20%20%20%20%20%20%20%20%20%20%20%20%20%20%20var%20html_e3488cbb0be84afbbc015c005c6a4a62%20%3D%20%24%28%27%3Cdiv%20id%3D%22html_e3488cbb0be84afbbc015c005c6a4a62%22%20style%3D%22width%3A%20100.0%25%3B%20height%3A%20100.0%25%3B%22%3ESchwanthalerh%C3%B6he%20-%20Pop%3A%2029611%3C/div%3E%27%29%5B0%5D%3B%0A%20%20%20%20%20%20%20%20%20%20%20%20%20%20%20%20popup_c4a313cc700c440484b2d1fc0559805f.setContent%28html_e3488cbb0be84afbbc015c005c6a4a62%29%3B%0A%20%20%20%20%20%20%20%20%20%20%20%20%0A%0A%20%20%20%20%20%20%20%20%20%20%20%20circle_marker_384f9159309143a4b8d62b69c11f9d8c.bindPopup%28popup_c4a313cc700c440484b2d1fc0559805f%29%3B%0A%0A%20%20%20%20%20%20%20%20%20%20%20%20%0A%20%20%20%20%20%20%20%20%0A%20%20%20%20%0A%20%20%20%20%20%20%20%20%20%20%20%20var%20circle_marker_47bfae42b6af4739bc57bb8c6cc4dc1b%20%3D%20L.circleMarker%28%0A%20%20%20%20%20%20%20%20%20%20%20%20%20%20%20%20%5B48.1542217%2C11.5315172%5D%2C%0A%20%20%20%20%20%20%20%20%20%20%20%20%20%20%20%20%7B%0A%20%20%22bubblingMouseEvents%22%3A%20true%2C%0A%20%20%22color%22%3A%20%22blue%22%2C%0A%20%20%22dashArray%22%3A%20null%2C%0A%20%20%22dashOffset%22%3A%20null%2C%0A%20%20%22fill%22%3A%20true%2C%0A%20%20%22fillColor%22%3A%20%22darkblue%22%2C%0A%20%20%22fillOpacity%22%3A%200.7%2C%0A%20%20%22fillRule%22%3A%20%22evenodd%22%2C%0A%20%20%22lineCap%22%3A%20%22round%22%2C%0A%20%20%22lineJoin%22%3A%20%22round%22%2C%0A%20%20%22opacity%22%3A%201.0%2C%0A%20%20%22radius%22%3A%205%2C%0A%20%20%22stroke%22%3A%20true%2C%0A%20%20%22weight%22%3A%203%0A%7D%0A%20%20%20%20%20%20%20%20%20%20%20%20%20%20%20%20%29.addTo%28map_ec698402f338468cadfd71cb66bfc0ae%29%3B%0A%20%20%20%20%20%20%20%20%20%20%20%20%0A%20%20%20%20%0A%20%20%20%20%20%20%20%20%20%20%20%20var%20popup_800e81a61c61428697bc67a13ae97929%20%3D%20L.popup%28%7BmaxWidth%3A%20%27300%27%7D%29%3B%0A%0A%20%20%20%20%20%20%20%20%20%20%20%20%0A%20%20%20%20%20%20%20%20%20%20%20%20%20%20%20%20var%20html_fac9b863c59546008483f4e2204d2eed%20%3D%20%24%28%27%3Cdiv%20id%3D%22html_fac9b863c59546008483f4e2204d2eed%22%20style%3D%22width%3A%20100.0%25%3B%20height%3A%20100.0%25%3B%22%3ENeuhausen-Nymphenburg%20-%20Pop%3A%20100213%3C/div%3E%27%29%5B0%5D%3B%0A%20%20%20%20%20%20%20%20%20%20%20%20%20%20%20%20popup_800e81a61c61428697bc67a13ae97929.setContent%28html_fac9b863c59546008483f4e2204d2eed%29%3B%0A%20%20%20%20%20%20%20%20%20%20%20%20%0A%0A%20%20%20%20%20%20%20%20%20%20%20%20circle_marker_47bfae42b6af4739bc57bb8c6cc4dc1b.bindPopup%28popup_800e81a61c61428697bc67a13ae97929%29%3B%0A%0A%20%20%20%20%20%20%20%20%20%20%20%20%0A%20%20%20%20%20%20%20%20%0A%20%20%20%20%0A%20%20%20%20%20%20%20%20%20%20%20%20var%20circle_marker_eb4e43ec09ad4b5bba1e5ed7ac4e2641%20%3D%20L.circleMarker%28%0A%20%20%20%20%20%20%20%20%20%20%20%20%20%20%20%20%5B48.183333%2C11.516667%5D%2C%0A%20%20%20%20%20%20%20%20%20%20%20%20%20%20%20%20%7B%0A%20%20%22bubblingMouseEvents%22%3A%20true%2C%0A%20%20%22color%22%3A%20%22blue%22%2C%0A%20%20%22dashArray%22%3A%20null%2C%0A%20%20%22dashOffset%22%3A%20null%2C%0A%20%20%22fill%22%3A%20true%2C%0A%20%20%22fillColor%22%3A%20%22darkblue%22%2C%0A%20%20%22fillOpacity%22%3A%200.7%2C%0A%20%20%22fillRule%22%3A%20%22evenodd%22%2C%0A%20%20%22lineCap%22%3A%20%22round%22%2C%0A%20%20%22lineJoin%22%3A%20%22round%22%2C%0A%20%20%22opacity%22%3A%201.0%2C%0A%20%20%22radius%22%3A%205%2C%0A%20%20%22stroke%22%3A%20true%2C%0A%20%20%22weight%22%3A%203%0A%7D%0A%20%20%20%20%20%20%20%20%20%20%20%20%20%20%20%20%29.addTo%28map_ec698402f338468cadfd71cb66bfc0ae%29%3B%0A%20%20%20%20%20%20%20%20%20%20%20%20%0A%20%20%20%20%0A%20%20%20%20%20%20%20%20%20%20%20%20var%20popup_9312e85181bd479c86654cca3a8e1408%20%3D%20L.popup%28%7BmaxWidth%3A%20%27300%27%7D%29%3B%0A%0A%20%20%20%20%20%20%20%20%20%20%20%20%0A%20%20%20%20%20%20%20%20%20%20%20%20%20%20%20%20var%20html_1ba59309e49d4e4abff8e8f2ccad0798%20%3D%20%24%28%27%3Cdiv%20id%3D%22html_1ba59309e49d4e4abff8e8f2ccad0798%22%20style%3D%22width%3A%20100.0%25%3B%20height%3A%20100.0%25%3B%22%3EMoosach%20-%20Pop%3A%2054872%3C/div%3E%27%29%5B0%5D%3B%0A%20%20%20%20%20%20%20%20%20%20%20%20%20%20%20%20popup_9312e85181bd479c86654cca3a8e1408.setContent%28html_1ba59309e49d4e4abff8e8f2ccad0798%29%3B%0A%20%20%20%20%20%20%20%20%20%20%20%20%0A%0A%20%20%20%20%20%20%20%20%20%20%20%20circle_marker_eb4e43ec09ad4b5bba1e5ed7ac4e2641.bindPopup%28popup_9312e85181bd479c86654cca3a8e1408%29%3B%0A%0A%20%20%20%20%20%20%20%20%20%20%20%20%0A%20%20%20%20%20%20%20%20%0A%20%20%20%20%0A%20%20%20%20%20%20%20%20%20%20%20%20var%20circle_marker_869799b0c4eb4853a07b75236dbcec77%20%3D%20L.circleMarker%28%0A%20%20%20%20%20%20%20%20%20%20%20%20%20%20%20%20%5B48.1823848%2C11.5750432%5D%2C%0A%20%20%20%20%20%20%20%20%20%20%20%20%20%20%20%20%7B%0A%20%20%22bubblingMouseEvents%22%3A%20true%2C%0A%20%20%22color%22%3A%20%22blue%22%2C%0A%20%20%22dashArray%22%3A%20null%2C%0A%20%20%22dashOffset%22%3A%20null%2C%0A%20%20%22fill%22%3A%20true%2C%0A%20%20%22fillColor%22%3A%20%22darkblue%22%2C%0A%20%20%22fillOpacity%22%3A%200.7%2C%0A%20%20%22fillRule%22%3A%20%22evenodd%22%2C%0A%20%20%22lineCap%22%3A%20%22round%22%2C%0A%20%20%22lineJoin%22%3A%20%22round%22%2C%0A%20%20%22opacity%22%3A%201.0%2C%0A%20%20%22radius%22%3A%205%2C%0A%20%20%22stroke%22%3A%20true%2C%0A%20%20%22weight%22%3A%203%0A%7D%0A%20%20%20%20%20%20%20%20%20%20%20%20%20%20%20%20%29.addTo%28map_ec698402f338468cadfd71cb66bfc0ae%29%3B%0A%20%20%20%20%20%20%20%20%20%20%20%20%0A%20%20%20%20%0A%20%20%20%20%20%20%20%20%20%20%20%20var%20popup_f2b7636c0f004be88ffdec21f8274137%20%3D%20L.popup%28%7BmaxWidth%3A%20%27300%27%7D%29%3B%0A%0A%20%20%20%20%20%20%20%20%20%20%20%20%0A%20%20%20%20%20%20%20%20%20%20%20%20%20%20%20%20var%20html_c45718ca13f04a8eb2e73f6087130b6d%20%3D%20%24%28%27%3Cdiv%20id%3D%22html_c45718ca13f04a8eb2e73f6087130b6d%22%20style%3D%22width%3A%20100.0%25%3B%20height%3A%20100.0%25%3B%22%3EMilbertshofen-Am%20Hart%20-%20Pop%3A%2076559%3C/div%3E%27%29%5B0%5D%3B%0A%20%20%20%20%20%20%20%20%20%20%20%20%20%20%20%20popup_f2b7636c0f004be88ffdec21f8274137.setContent%28html_c45718ca13f04a8eb2e73f6087130b6d%29%3B%0A%20%20%20%20%20%20%20%20%20%20%20%20%0A%0A%20%20%20%20%20%20%20%20%20%20%20%20circle_marker_869799b0c4eb4853a07b75236dbcec77.bindPopup%28popup_f2b7636c0f004be88ffdec21f8274137%29%3B%0A%0A%20%20%20%20%20%20%20%20%20%20%20%20%0A%20%20%20%20%20%20%20%20%0A%20%20%20%20%0A%20%20%20%20%20%20%20%20%20%20%20%20var%20circle_marker_f74c95488a8f4b849f8e72406366a61f%20%3D%20L.circleMarker%28%0A%20%20%20%20%20%20%20%20%20%20%20%20%20%20%20%20%5B48.1892784%2C11.60858258301819%5D%2C%0A%20%20%20%20%20%20%20%20%20%20%20%20%20%20%20%20%7B%0A%20%20%22bubblingMouseEvents%22%3A%20true%2C%0A%20%20%22color%22%3A%20%22blue%22%2C%0A%20%20%22dashArray%22%3A%20null%2C%0A%20%20%22dashOffset%22%3A%20null%2C%0A%20%20%22fill%22%3A%20true%2C%0A%20%20%22fillColor%22%3A%20%22darkblue%22%2C%0A%20%20%22fillOpacity%22%3A%200.7%2C%0A%20%20%22fillRule%22%3A%20%22evenodd%22%2C%0A%20%20%22lineCap%22%3A%20%22round%22%2C%0A%20%20%22lineJoin%22%3A%20%22round%22%2C%0A%20%20%22opacity%22%3A%201.0%2C%0A%20%20%22radius%22%3A%205%2C%0A%20%20%22stroke%22%3A%20true%2C%0A%20%20%22weight%22%3A%203%0A%7D%0A%20%20%20%20%20%20%20%20%20%20%20%20%20%20%20%20%29.addTo%28map_ec698402f338468cadfd71cb66bfc0ae%29%3B%0A%20%20%20%20%20%20%20%20%20%20%20%20%0A%20%20%20%20%0A%20%20%20%20%20%20%20%20%20%20%20%20var%20popup_4bbec12a9c5f4d86b86d440cecadd615%20%3D%20L.popup%28%7BmaxWidth%3A%20%27300%27%7D%29%3B%0A%0A%20%20%20%20%20%20%20%20%20%20%20%20%0A%20%20%20%20%20%20%20%20%20%20%20%20%20%20%20%20var%20html_c5a51b18800b4e469c574d1e42ca7df7%20%3D%20%24%28%27%3Cdiv%20id%3D%22html_c5a51b18800b4e469c574d1e42ca7df7%22%20style%3D%22width%3A%20100.0%25%3B%20height%3A%20100.0%25%3B%22%3ESchwabing-Freimann%20-%20Pop%3A%2078657%3C/div%3E%27%29%5B0%5D%3B%0A%20%20%20%20%20%20%20%20%20%20%20%20%20%20%20%20popup_4bbec12a9c5f4d86b86d440cecadd615.setContent%28html_c5a51b18800b4e469c574d1e42ca7df7%29%3B%0A%20%20%20%20%20%20%20%20%20%20%20%20%0A%0A%20%20%20%20%20%20%20%20%20%20%20%20circle_marker_f74c95488a8f4b849f8e72406366a61f.bindPopup%28popup_4bbec12a9c5f4d86b86d440cecadd615%29%3B%0A%0A%20%20%20%20%20%20%20%20%20%20%20%20%0A%20%20%20%20%20%20%20%20%0A%20%20%20%20%0A%20%20%20%20%20%20%20%20%20%20%20%20var%20circle_marker_fd54ba0852c842089d7a008f78033643%20%3D%20L.circleMarker%28%0A%20%20%20%20%20%20%20%20%20%20%20%20%20%20%20%20%5B48.1547823%2C11.6334838%5D%2C%0A%20%20%20%20%20%20%20%20%20%20%20%20%20%20%20%20%7B%0A%20%20%22bubblingMouseEvents%22%3A%20true%2C%0A%20%20%22color%22%3A%20%22blue%22%2C%0A%20%20%22dashArray%22%3A%20null%2C%0A%20%20%22dashOffset%22%3A%20null%2C%0A%20%20%22fill%22%3A%20true%2C%0A%20%20%22fillColor%22%3A%20%22darkblue%22%2C%0A%20%20%22fillOpacity%22%3A%200.7%2C%0A%20%20%22fillRule%22%3A%20%22evenodd%22%2C%0A%20%20%22lineCap%22%3A%20%22round%22%2C%0A%20%20%22lineJoin%22%3A%20%22round%22%2C%0A%20%20%22opacity%22%3A%201.0%2C%0A%20%20%22radius%22%3A%205%2C%0A%20%20%22stroke%22%3A%20true%2C%0A%20%20%22weight%22%3A%203%0A%7D%0A%20%20%20%20%20%20%20%20%20%20%20%20%20%20%20%20%29.addTo%28map_ec698402f338468cadfd71cb66bfc0ae%29%3B%0A%20%20%20%20%20%20%20%20%20%20%20%20%0A%20%20%20%20%0A%20%20%20%20%20%20%20%20%20%20%20%20var%20popup_229eff489a4e4847bc8687c86842b86e%20%3D%20L.popup%28%7BmaxWidth%3A%20%27300%27%7D%29%3B%0A%0A%20%20%20%20%20%20%20%20%20%20%20%20%0A%20%20%20%20%20%20%20%20%20%20%20%20%20%20%20%20var%20html_c7675969abd4401689e7dc3fa984cfcb%20%3D%20%24%28%27%3Cdiv%20id%3D%22html_c7675969abd4401689e7dc3fa984cfcb%22%20style%3D%22width%3A%20100.0%25%3B%20height%3A%20100.0%25%3B%22%3EBogenhausen%20-%20Pop%3A%2090025%3C/div%3E%27%29%5B0%5D%3B%0A%20%20%20%20%20%20%20%20%20%20%20%20%20%20%20%20popup_229eff489a4e4847bc8687c86842b86e.setContent%28html_c7675969abd4401689e7dc3fa984cfcb%29%3B%0A%20%20%20%20%20%20%20%20%20%20%20%20%0A%0A%20%20%20%20%20%20%20%20%20%20%20%20circle_marker_fd54ba0852c842089d7a008f78033643.bindPopup%28popup_229eff489a4e4847bc8687c86842b86e%29%3B%0A%0A%20%20%20%20%20%20%20%20%20%20%20%20%0A%20%20%20%20%20%20%20%20%0A%20%20%20%20%0A%20%20%20%20%20%20%20%20%20%20%20%20var%20circle_marker_8ae358ffb932471ebb3417f54858dc78%20%3D%20L.circleMarker%28%0A%20%20%20%20%20%20%20%20%20%20%20%20%20%20%20%20%5B48.1234833%2C11.6334511%5D%2C%0A%20%20%20%20%20%20%20%20%20%20%20%20%20%20%20%20%7B%0A%20%20%22bubblingMouseEvents%22%3A%20true%2C%0A%20%20%22color%22%3A%20%22blue%22%2C%0A%20%20%22dashArray%22%3A%20null%2C%0A%20%20%22dashOffset%22%3A%20null%2C%0A%20%20%22fill%22%3A%20true%2C%0A%20%20%22fillColor%22%3A%20%22darkblue%22%2C%0A%20%20%22fillOpacity%22%3A%200.7%2C%0A%20%20%22fillRule%22%3A%20%22evenodd%22%2C%0A%20%20%22lineCap%22%3A%20%22round%22%2C%0A%20%20%22lineJoin%22%3A%20%22round%22%2C%0A%20%20%22opacity%22%3A%201.0%2C%0A%20%20%22radius%22%3A%205%2C%0A%20%20%22stroke%22%3A%20true%2C%0A%20%20%22weight%22%3A%203%0A%7D%0A%20%20%20%20%20%20%20%20%20%20%20%20%20%20%20%20%29.addTo%28map_ec698402f338468cadfd71cb66bfc0ae%29%3B%0A%20%20%20%20%20%20%20%20%20%20%20%20%0A%20%20%20%20%0A%20%20%20%20%20%20%20%20%20%20%20%20var%20popup_cfe71cb2a0304d0e86d19f3eea2e08d3%20%3D%20L.popup%28%7BmaxWidth%3A%20%27300%27%7D%29%3B%0A%0A%20%20%20%20%20%20%20%20%20%20%20%20%0A%20%20%20%20%20%20%20%20%20%20%20%20%20%20%20%20var%20html_cc47c820a78841059f4d9552ba489acd%20%3D%20%24%28%27%3Cdiv%20id%3D%22html_cc47c820a78841059f4d9552ba489acd%22%20style%3D%22width%3A%20100.0%25%3B%20height%3A%20100.0%25%3B%22%3EBerg%20am%20Laim%20-%20Pop%3A%2047000%3C/div%3E%27%29%5B0%5D%3B%0A%20%20%20%20%20%20%20%20%20%20%20%20%20%20%20%20popup_cfe71cb2a0304d0e86d19f3eea2e08d3.setContent%28html_cc47c820a78841059f4d9552ba489acd%29%3B%0A%20%20%20%20%20%20%20%20%20%20%20%20%0A%0A%20%20%20%20%20%20%20%20%20%20%20%20circle_marker_8ae358ffb932471ebb3417f54858dc78.bindPopup%28popup_cfe71cb2a0304d0e86d19f3eea2e08d3%29%3B%0A%0A%20%20%20%20%20%20%20%20%20%20%20%20%0A%20%20%20%20%20%20%20%20%0A%20%20%20%20%0A%20%20%20%20%20%20%20%20%20%20%20%20var%20circle_marker_06ef4f957e064462880f0e630b6d2e74%20%3D%20L.circleMarker%28%0A%20%20%20%20%20%20%20%20%20%20%20%20%20%20%20%20%5B48.1231749%2C11.6640782%5D%2C%0A%20%20%20%20%20%20%20%20%20%20%20%20%20%20%20%20%7B%0A%20%20%22bubblingMouseEvents%22%3A%20true%2C%0A%20%20%22color%22%3A%20%22blue%22%2C%0A%20%20%22dashArray%22%3A%20null%2C%0A%20%20%22dashOffset%22%3A%20null%2C%0A%20%20%22fill%22%3A%20true%2C%0A%20%20%22fillColor%22%3A%20%22darkblue%22%2C%0A%20%20%22fillOpacity%22%3A%200.7%2C%0A%20%20%22fillRule%22%3A%20%22evenodd%22%2C%0A%20%20%22lineCap%22%3A%20%22round%22%2C%0A%20%20%22lineJoin%22%3A%20%22round%22%2C%0A%20%20%22opacity%22%3A%201.0%2C%0A%20%20%22radius%22%3A%205%2C%0A%20%20%22stroke%22%3A%20true%2C%0A%20%20%22weight%22%3A%203%0A%7D%0A%20%20%20%20%20%20%20%20%20%20%20%20%20%20%20%20%29.addTo%28map_ec698402f338468cadfd71cb66bfc0ae%29%3B%0A%20%20%20%20%20%20%20%20%20%20%20%20%0A%20%20%20%20%0A%20%20%20%20%20%20%20%20%20%20%20%20var%20popup_f1d5b692caaa43a8ab98dac42e9b4a1c%20%3D%20L.popup%28%7BmaxWidth%3A%20%27300%27%7D%29%3B%0A%0A%20%20%20%20%20%20%20%20%20%20%20%20%0A%20%20%20%20%20%20%20%20%20%20%20%20%20%20%20%20var%20html_f079fd00b9d1481480dbd6b4c2a70194%20%3D%20%24%28%27%3Cdiv%20id%3D%22html_f079fd00b9d1481480dbd6b4c2a70194%22%20style%3D%22width%3A%20100.0%25%3B%20height%3A%20100.0%25%3B%22%3ETrudering-Riem%20-%20Pop%3A%2073479%3C/div%3E%27%29%5B0%5D%3B%0A%20%20%20%20%20%20%20%20%20%20%20%20%20%20%20%20popup_f1d5b692caaa43a8ab98dac42e9b4a1c.setContent%28html_f079fd00b9d1481480dbd6b4c2a70194%29%3B%0A%20%20%20%20%20%20%20%20%20%20%20%20%0A%0A%20%20%20%20%20%20%20%20%20%20%20%20circle_marker_06ef4f957e064462880f0e630b6d2e74.bindPopup%28popup_f1d5b692caaa43a8ab98dac42e9b4a1c%29%3B%0A%0A%20%20%20%20%20%20%20%20%20%20%20%20%0A%20%20%20%20%20%20%20%20%0A%20%20%20%20%0A%20%20%20%20%20%20%20%20%20%20%20%20var%20circle_marker_ac4869f370bc4e6883061fd55a17f09c%20%3D%20L.circleMarker%28%0A%20%20%20%20%20%20%20%20%20%20%20%20%20%20%20%20%5B48.100894249999996%2C11.633370907753356%5D%2C%0A%20%20%20%20%20%20%20%20%20%20%20%20%20%20%20%20%7B%0A%20%20%22bubblingMouseEvents%22%3A%20true%2C%0A%20%20%22color%22%3A%20%22blue%22%2C%0A%20%20%22dashArray%22%3A%20null%2C%0A%20%20%22dashOffset%22%3A%20null%2C%0A%20%20%22fill%22%3A%20true%2C%0A%20%20%22fillColor%22%3A%20%22darkblue%22%2C%0A%20%20%22fillOpacity%22%3A%200.7%2C%0A%20%20%22fillRule%22%3A%20%22evenodd%22%2C%0A%20%20%22lineCap%22%3A%20%22round%22%2C%0A%20%20%22lineJoin%22%3A%20%22round%22%2C%0A%20%20%22opacity%22%3A%201.0%2C%0A%20%20%22radius%22%3A%205%2C%0A%20%20%22stroke%22%3A%20true%2C%0A%20%20%22weight%22%3A%203%0A%7D%0A%20%20%20%20%20%20%20%20%20%20%20%20%20%20%20%20%29.addTo%28map_ec698402f338468cadfd71cb66bfc0ae%29%3B%0A%20%20%20%20%20%20%20%20%20%20%20%20%0A%20%20%20%20%0A%20%20%20%20%20%20%20%20%20%20%20%20var%20popup_2d3f2dcb806a4e2381273bb87fb91fd5%20%3D%20L.popup%28%7BmaxWidth%3A%20%27300%27%7D%29%3B%0A%0A%20%20%20%20%20%20%20%20%20%20%20%20%0A%20%20%20%20%20%20%20%20%20%20%20%20%20%20%20%20var%20html_6ef268fe4a454eb8ba95cc874a233fc7%20%3D%20%24%28%27%3Cdiv%20id%3D%22html_6ef268fe4a454eb8ba95cc874a233fc7%22%20style%3D%22width%3A%20100.0%25%3B%20height%3A%20100.0%25%3B%22%3ERamersdorf-Perlach%20-%20Pop%3A%20117918%3C/div%3E%27%29%5B0%5D%3B%0A%20%20%20%20%20%20%20%20%20%20%20%20%20%20%20%20popup_2d3f2dcb806a4e2381273bb87fb91fd5.setContent%28html_6ef268fe4a454eb8ba95cc874a233fc7%29%3B%0A%20%20%20%20%20%20%20%20%20%20%20%20%0A%0A%20%20%20%20%20%20%20%20%20%20%20%20circle_marker_ac4869f370bc4e6883061fd55a17f09c.bindPopup%28popup_2d3f2dcb806a4e2381273bb87fb91fd5%29%3B%0A%0A%20%20%20%20%20%20%20%20%20%20%20%20%0A%20%20%20%20%20%20%20%20%0A%20%20%20%20%0A%20%20%20%20%20%20%20%20%20%20%20%20var%20circle_marker_eaa62735b5c2427b8d267b169d030eee%20%3D%20L.circleMarker%28%0A%20%20%20%20%20%20%20%20%20%20%20%20%20%20%20%20%5B48.1111557%2C11.5889093%5D%2C%0A%20%20%20%20%20%20%20%20%20%20%20%20%20%20%20%20%7B%0A%20%20%22bubblingMouseEvents%22%3A%20true%2C%0A%20%20%22color%22%3A%20%22blue%22%2C%0A%20%20%22dashArray%22%3A%20null%2C%0A%20%20%22dashOffset%22%3A%20null%2C%0A%20%20%22fill%22%3A%20true%2C%0A%20%20%22fillColor%22%3A%20%22darkblue%22%2C%0A%20%20%22fillOpacity%22%3A%200.7%2C%0A%20%20%22fillRule%22%3A%20%22evenodd%22%2C%0A%20%20%22lineCap%22%3A%20%22round%22%2C%0A%20%20%22lineJoin%22%3A%20%22round%22%2C%0A%20%20%22opacity%22%3A%201.0%2C%0A%20%20%22radius%22%3A%205%2C%0A%20%20%22stroke%22%3A%20true%2C%0A%20%20%22weight%22%3A%203%0A%7D%0A%20%20%20%20%20%20%20%20%20%20%20%20%20%20%20%20%29.addTo%28map_ec698402f338468cadfd71cb66bfc0ae%29%3B%0A%20%20%20%20%20%20%20%20%20%20%20%20%0A%20%20%20%20%0A%20%20%20%20%20%20%20%20%20%20%20%20var%20popup_f5373a2c408740078094e97cdcf59218%20%3D%20L.popup%28%7BmaxWidth%3A%20%27300%27%7D%29%3B%0A%0A%20%20%20%20%20%20%20%20%20%20%20%20%0A%20%20%20%20%20%20%20%20%20%20%20%20%20%20%20%20var%20html_e2183770bb5d425f824e2fd1dc77a9cf%20%3D%20%24%28%27%3Cdiv%20id%3D%22html_e2183770bb5d425f824e2fd1dc77a9cf%22%20style%3D%22width%3A%20100.0%25%3B%20height%3A%20100.0%25%3B%22%3EObergiesing-Fasangarten%20-%20Pop%3A%2054498%3C/div%3E%27%29%5B0%5D%3B%0A%20%20%20%20%20%20%20%20%20%20%20%20%20%20%20%20popup_f5373a2c408740078094e97cdcf59218.setContent%28html_e2183770bb5d425f824e2fd1dc77a9cf%29%3B%0A%20%20%20%20%20%20%20%20%20%20%20%20%0A%0A%20%20%20%20%20%20%20%20%20%20%20%20circle_marker_eaa62735b5c2427b8d267b169d030eee.bindPopup%28popup_f5373a2c408740078094e97cdcf59218%29%3B%0A%0A%20%20%20%20%20%20%20%20%20%20%20%20%0A%20%20%20%20%20%20%20%20%0A%20%20%20%20%0A%20%20%20%20%20%20%20%20%20%20%20%20var%20circle_marker_a36dd02ccaca449d8a7880b0cd309625%20%3D%20L.circleMarker%28%0A%20%20%20%20%20%20%20%20%20%20%20%20%20%20%20%20%5B48.1149632%2C11.5701894%5D%2C%0A%20%20%20%20%20%20%20%20%20%20%20%20%20%20%20%20%7B%0A%20%20%22bubblingMouseEvents%22%3A%20true%2C%0A%20%20%22color%22%3A%20%22blue%22%2C%0A%20%20%22dashArray%22%3A%20null%2C%0A%20%20%22dashOffset%22%3A%20null%2C%0A%20%20%22fill%22%3A%20true%2C%0A%20%20%22fillColor%22%3A%20%22darkblue%22%2C%0A%20%20%22fillOpacity%22%3A%200.7%2C%0A%20%20%22fillRule%22%3A%20%22evenodd%22%2C%0A%20%20%22lineCap%22%3A%20%22round%22%2C%0A%20%20%22lineJoin%22%3A%20%22round%22%2C%0A%20%20%22opacity%22%3A%201.0%2C%0A%20%20%22radius%22%3A%205%2C%0A%20%20%22stroke%22%3A%20true%2C%0A%20%20%22weight%22%3A%203%0A%7D%0A%20%20%20%20%20%20%20%20%20%20%20%20%20%20%20%20%29.addTo%28map_ec698402f338468cadfd71cb66bfc0ae%29%3B%0A%20%20%20%20%20%20%20%20%20%20%20%20%0A%20%20%20%20%0A%20%20%20%20%20%20%20%20%20%20%20%20var%20popup_2310995d9d57468dbb9db71aab5fe83c%20%3D%20L.popup%28%7BmaxWidth%3A%20%27300%27%7D%29%3B%0A%0A%20%20%20%20%20%20%20%20%20%20%20%20%0A%20%20%20%20%20%20%20%20%20%20%20%20%20%20%20%20var%20html_601492ca54464d85a4948b53d5db6e10%20%3D%20%24%28%27%3Cdiv%20id%3D%22html_601492ca54464d85a4948b53d5db6e10%22%20style%3D%22width%3A%20100.0%25%3B%20height%3A%20100.0%25%3B%22%3EUntergiesing-Harlaching%20-%20Pop%3A%2053243%3C/div%3E%27%29%5B0%5D%3B%0A%20%20%20%20%20%20%20%20%20%20%20%20%20%20%20%20popup_2310995d9d57468dbb9db71aab5fe83c.setContent%28html_601492ca54464d85a4948b53d5db6e10%29%3B%0A%20%20%20%20%20%20%20%20%20%20%20%20%0A%0A%20%20%20%20%20%20%20%20%20%20%20%20circle_marker_a36dd02ccaca449d8a7880b0cd309625.bindPopup%28popup_2310995d9d57468dbb9db71aab5fe83c%29%3B%0A%0A%20%20%20%20%20%20%20%20%20%20%20%20%0A%20%20%20%20%20%20%20%20%0A%20%20%20%20%0A%20%20%20%20%20%20%20%20%20%20%20%20var%20circle_marker_0c42ab8fe1134126bf49b95a93761915%20%3D%20L.circleMarker%28%0A%20%20%20%20%20%20%20%20%20%20%20%20%20%20%20%20%5B48.0842133%2C11.508050993496012%5D%2C%0A%20%20%20%20%20%20%20%20%20%20%20%20%20%20%20%20%7B%0A%20%20%22bubblingMouseEvents%22%3A%20true%2C%0A%20%20%22color%22%3A%20%22blue%22%2C%0A%20%20%22dashArray%22%3A%20null%2C%0A%20%20%22dashOffset%22%3A%20null%2C%0A%20%20%22fill%22%3A%20true%2C%0A%20%20%22fillColor%22%3A%20%22darkblue%22%2C%0A%20%20%22fillOpacity%22%3A%200.7%2C%0A%20%20%22fillRule%22%3A%20%22evenodd%22%2C%0A%20%20%22lineCap%22%3A%20%22round%22%2C%0A%20%20%22lineJoin%22%3A%20%22round%22%2C%0A%20%20%22opacity%22%3A%201.0%2C%0A%20%20%22radius%22%3A%205%2C%0A%20%20%22stroke%22%3A%20true%2C%0A%20%20%22weight%22%3A%203%0A%7D%0A%20%20%20%20%20%20%20%20%20%20%20%20%20%20%20%20%29.addTo%28map_ec698402f338468cadfd71cb66bfc0ae%29%3B%0A%20%20%20%20%20%20%20%20%20%20%20%20%0A%20%20%20%20%0A%20%20%20%20%20%20%20%20%20%20%20%20var%20popup_aa35adf4ba314743a0ae100a4b1a1d6e%20%3D%20L.popup%28%7BmaxWidth%3A%20%27300%27%7D%29%3B%0A%0A%20%20%20%20%20%20%20%20%20%20%20%20%0A%20%20%20%20%20%20%20%20%20%20%20%20%20%20%20%20var%20html_87d98f5be84040b48b5d299cbee69d12%20%3D%20%24%28%27%3Cdiv%20id%3D%22html_87d98f5be84040b48b5d299cbee69d12%22%20style%3D%22width%3A%20100.0%25%3B%20height%3A%20100.0%25%3B%22%3EThalkirchen-Obersendling-Forstenried-F%C3%BCrstenried-Solln%20-%20Pop%3A%2097689%3C/div%3E%27%29%5B0%5D%3B%0A%20%20%20%20%20%20%20%20%20%20%20%20%20%20%20%20popup_aa35adf4ba314743a0ae100a4b1a1d6e.setContent%28html_87d98f5be84040b48b5d299cbee69d12%29%3B%0A%20%20%20%20%20%20%20%20%20%20%20%20%0A%0A%20%20%20%20%20%20%20%20%20%20%20%20circle_marker_0c42ab8fe1134126bf49b95a93761915.bindPopup%28popup_aa35adf4ba314743a0ae100a4b1a1d6e%29%3B%0A%0A%20%20%20%20%20%20%20%20%20%20%20%20%0A%20%20%20%20%20%20%20%20%0A%20%20%20%20%0A%20%20%20%20%20%20%20%20%20%20%20%20var%20circle_marker_ecc6da9ad27b4fc6b42e55f38ef8d3ef%20%3D%20L.circleMarker%28%0A%20%20%20%20%20%20%20%20%20%20%20%20%20%20%20%20%5B48.118064%2C11.4818417%5D%2C%0A%20%20%20%20%20%20%20%20%20%20%20%20%20%20%20%20%7B%0A%20%20%22bubblingMouseEvents%22%3A%20true%2C%0A%20%20%22color%22%3A%20%22blue%22%2C%0A%20%20%22dashArray%22%3A%20null%2C%0A%20%20%22dashOffset%22%3A%20null%2C%0A%20%20%22fill%22%3A%20true%2C%0A%20%20%22fillColor%22%3A%20%22darkblue%22%2C%0A%20%20%22fillOpacity%22%3A%200.7%2C%0A%20%20%22fillRule%22%3A%20%22evenodd%22%2C%0A%20%20%22lineCap%22%3A%20%22round%22%2C%0A%20%20%22lineJoin%22%3A%20%22round%22%2C%0A%20%20%22opacity%22%3A%201.0%2C%0A%20%20%22radius%22%3A%205%2C%0A%20%20%22stroke%22%3A%20true%2C%0A%20%20%22weight%22%3A%203%0A%7D%0A%20%20%20%20%20%20%20%20%20%20%20%20%20%20%20%20%29.addTo%28map_ec698402f338468cadfd71cb66bfc0ae%29%3B%0A%20%20%20%20%20%20%20%20%20%20%20%20%0A%20%20%20%20%0A%20%20%20%20%20%20%20%20%20%20%20%20var%20popup_b9b4a132f5af43dc962984cc2fa95df1%20%3D%20L.popup%28%7BmaxWidth%3A%20%27300%27%7D%29%3B%0A%0A%20%20%20%20%20%20%20%20%20%20%20%20%0A%20%20%20%20%20%20%20%20%20%20%20%20%20%20%20%20var%20html_8f8b96e195144b878ced669f33677dd2%20%3D%20%24%28%27%3Cdiv%20id%3D%22html_8f8b96e195144b878ced669f33677dd2%22%20style%3D%22width%3A%20100.0%25%3B%20height%3A%20100.0%25%3B%22%3EHadern%20-%20Pop%3A%2050165%3C/div%3E%27%29%5B0%5D%3B%0A%20%20%20%20%20%20%20%20%20%20%20%20%20%20%20%20popup_b9b4a132f5af43dc962984cc2fa95df1.setContent%28html_8f8b96e195144b878ced669f33677dd2%29%3B%0A%20%20%20%20%20%20%20%20%20%20%20%20%0A%0A%20%20%20%20%20%20%20%20%20%20%20%20circle_marker_ecc6da9ad27b4fc6b42e55f38ef8d3ef.bindPopup%28popup_b9b4a132f5af43dc962984cc2fa95df1%29%3B%0A%0A%20%20%20%20%20%20%20%20%20%20%20%20%0A%20%20%20%20%20%20%20%20%0A%20%20%20%20%0A%20%20%20%20%20%20%20%20%20%20%20%20var%20circle_marker_3ecb5f465bfa4bdeb768694d20ed7ae1%20%3D%20L.circleMarker%28%0A%20%20%20%20%20%20%20%20%20%20%20%20%20%20%20%20%5B48.15236275%2C11.468434085049713%5D%2C%0A%20%20%20%20%20%20%20%20%20%20%20%20%20%20%20%20%7B%0A%20%20%22bubblingMouseEvents%22%3A%20true%2C%0A%20%20%22color%22%3A%20%22blue%22%2C%0A%20%20%22dashArray%22%3A%20null%2C%0A%20%20%22dashOffset%22%3A%20null%2C%0A%20%20%22fill%22%3A%20true%2C%0A%20%20%22fillColor%22%3A%20%22darkblue%22%2C%0A%20%20%22fillOpacity%22%3A%200.7%2C%0A%20%20%22fillRule%22%3A%20%22evenodd%22%2C%0A%20%20%22lineCap%22%3A%20%22round%22%2C%0A%20%20%22lineJoin%22%3A%20%22round%22%2C%0A%20%20%22opacity%22%3A%201.0%2C%0A%20%20%22radius%22%3A%205%2C%0A%20%20%22stroke%22%3A%20true%2C%0A%20%20%22weight%22%3A%203%0A%7D%0A%20%20%20%20%20%20%20%20%20%20%20%20%20%20%20%20%29.addTo%28map_ec698402f338468cadfd71cb66bfc0ae%29%3B%0A%20%20%20%20%20%20%20%20%20%20%20%20%0A%20%20%20%20%0A%20%20%20%20%20%20%20%20%20%20%20%20var%20popup_5c36da7626ee4aa6b8af405e4e5f9ea4%20%3D%20L.popup%28%7BmaxWidth%3A%20%27300%27%7D%29%3B%0A%0A%20%20%20%20%20%20%20%20%20%20%20%20%0A%20%20%20%20%20%20%20%20%20%20%20%20%20%20%20%20var%20html_a5291a2e263e4a1aa95302e6cdfd307e%20%3D%20%24%28%27%3Cdiv%20id%3D%22html_a5291a2e263e4a1aa95302e6cdfd307e%22%20style%3D%22width%3A%20100.0%25%3B%20height%3A%20100.0%25%3B%22%3EPasing-Obermenzing%20-%20Pop%3A%2076348%3C/div%3E%27%29%5B0%5D%3B%0A%20%20%20%20%20%20%20%20%20%20%20%20%20%20%20%20popup_5c36da7626ee4aa6b8af405e4e5f9ea4.setContent%28html_a5291a2e263e4a1aa95302e6cdfd307e%29%3B%0A%20%20%20%20%20%20%20%20%20%20%20%20%0A%0A%20%20%20%20%20%20%20%20%20%20%20%20circle_marker_3ecb5f465bfa4bdeb768694d20ed7ae1.bindPopup%28popup_5c36da7626ee4aa6b8af405e4e5f9ea4%29%3B%0A%0A%20%20%20%20%20%20%20%20%20%20%20%20%0A%20%20%20%20%20%20%20%20%0A%20%20%20%20%0A%20%20%20%20%20%20%20%20%20%20%20%20var%20circle_marker_731d67956b8f42e1b9c7b9b65ad8807a%20%3D%20L.circleMarker%28%0A%20%20%20%20%20%20%20%20%20%20%20%20%20%20%20%20%5B48.16505875%2C11.40022147296721%5D%2C%0A%20%20%20%20%20%20%20%20%20%20%20%20%20%20%20%20%7B%0A%20%20%22bubblingMouseEvents%22%3A%20true%2C%0A%20%20%22color%22%3A%20%22blue%22%2C%0A%20%20%22dashArray%22%3A%20null%2C%0A%20%20%22dashOffset%22%3A%20null%2C%0A%20%20%22fill%22%3A%20true%2C%0A%20%20%22fillColor%22%3A%20%22darkblue%22%2C%0A%20%20%22fillOpacity%22%3A%200.7%2C%0A%20%20%22fillRule%22%3A%20%22evenodd%22%2C%0A%20%20%22lineCap%22%3A%20%22round%22%2C%0A%20%20%22lineJoin%22%3A%20%22round%22%2C%0A%20%20%22opacity%22%3A%201.0%2C%0A%20%20%22radius%22%3A%205%2C%0A%20%20%22stroke%22%3A%20true%2C%0A%20%20%22weight%22%3A%203%0A%7D%0A%20%20%20%20%20%20%20%20%20%20%20%20%20%20%20%20%29.addTo%28map_ec698402f338468cadfd71cb66bfc0ae%29%3B%0A%20%20%20%20%20%20%20%20%20%20%20%20%0A%20%20%20%20%0A%20%20%20%20%20%20%20%20%20%20%20%20var%20popup_920bb0d66992427098bfa5aac4d0c2b5%20%3D%20L.popup%28%7BmaxWidth%3A%20%27300%27%7D%29%3B%0A%0A%20%20%20%20%20%20%20%20%20%20%20%20%0A%20%20%20%20%20%20%20%20%20%20%20%20%20%20%20%20var%20html_f457b91137c5431e822643cd3ae16bd9%20%3D%20%24%28%27%3Cdiv%20id%3D%22html_f457b91137c5431e822643cd3ae16bd9%22%20style%3D%22width%3A%20100.0%25%3B%20height%3A%20100.0%25%3B%22%3EAubing-Lochhausen-Langwied%20-%20Pop%3A%2049072%3C/div%3E%27%29%5B0%5D%3B%0A%20%20%20%20%20%20%20%20%20%20%20%20%20%20%20%20popup_920bb0d66992427098bfa5aac4d0c2b5.setContent%28html_f457b91137c5431e822643cd3ae16bd9%29%3B%0A%20%20%20%20%20%20%20%20%20%20%20%20%0A%0A%20%20%20%20%20%20%20%20%20%20%20%20circle_marker_731d67956b8f42e1b9c7b9b65ad8807a.bindPopup%28popup_920bb0d66992427098bfa5aac4d0c2b5%29%3B%0A%0A%20%20%20%20%20%20%20%20%20%20%20%20%0A%20%20%20%20%20%20%20%20%0A%20%20%20%20%0A%20%20%20%20%20%20%20%20%20%20%20%20var%20circle_marker_9e38e5b925d845efb1a2b3bc157b0df5%20%3D%20L.circleMarker%28%0A%20%20%20%20%20%20%20%20%20%20%20%20%20%20%20%20%5B48.19515735%2C11.462973336774297%5D%2C%0A%20%20%20%20%20%20%20%20%20%20%20%20%20%20%20%20%7B%0A%20%20%22bubblingMouseEvents%22%3A%20true%2C%0A%20%20%22color%22%3A%20%22blue%22%2C%0A%20%20%22dashArray%22%3A%20null%2C%0A%20%20%22dashOffset%22%3A%20null%2C%0A%20%20%22fill%22%3A%20true%2C%0A%20%20%22fillColor%22%3A%20%22darkblue%22%2C%0A%20%20%22fillOpacity%22%3A%200.7%2C%0A%20%20%22fillRule%22%3A%20%22evenodd%22%2C%0A%20%20%22lineCap%22%3A%20%22round%22%2C%0A%20%20%22lineJoin%22%3A%20%22round%22%2C%0A%20%20%22opacity%22%3A%201.0%2C%0A%20%20%22radius%22%3A%205%2C%0A%20%20%22stroke%22%3A%20true%2C%0A%20%20%22weight%22%3A%203%0A%7D%0A%20%20%20%20%20%20%20%20%20%20%20%20%20%20%20%20%29.addTo%28map_ec698402f338468cadfd71cb66bfc0ae%29%3B%0A%20%20%20%20%20%20%20%20%20%20%20%20%0A%20%20%20%20%0A%20%20%20%20%20%20%20%20%20%20%20%20var%20popup_d396ae750b2545279d9b84b9b1fe536e%20%3D%20L.popup%28%7BmaxWidth%3A%20%27300%27%7D%29%3B%0A%0A%20%20%20%20%20%20%20%20%20%20%20%20%0A%20%20%20%20%20%20%20%20%20%20%20%20%20%20%20%20var%20html_ee3007b7a8ef4dabaa181a24701aae96%20%3D%20%24%28%27%3Cdiv%20id%3D%22html_ee3007b7a8ef4dabaa181a24701aae96%22%20style%3D%22width%3A%20100.0%25%3B%20height%3A%20100.0%25%3B%22%3EAllach-Untermenzing%20-%20Pop%3A%2034277%3C/div%3E%27%29%5B0%5D%3B%0A%20%20%20%20%20%20%20%20%20%20%20%20%20%20%20%20popup_d396ae750b2545279d9b84b9b1fe536e.setContent%28html_ee3007b7a8ef4dabaa181a24701aae96%29%3B%0A%20%20%20%20%20%20%20%20%20%20%20%20%0A%0A%20%20%20%20%20%20%20%20%20%20%20%20circle_marker_9e38e5b925d845efb1a2b3bc157b0df5.bindPopup%28popup_d396ae750b2545279d9b84b9b1fe536e%29%3B%0A%0A%20%20%20%20%20%20%20%20%20%20%20%20%0A%20%20%20%20%20%20%20%20%0A%20%20%20%20%0A%20%20%20%20%20%20%20%20%20%20%20%20var%20circle_marker_613ac78a70164297a9402273ba70f0bb%20%3D%20L.circleMarker%28%0A%20%20%20%20%20%20%20%20%20%20%20%20%20%20%20%20%5B48.21846185%2C11.520409083159603%5D%2C%0A%20%20%20%20%20%20%20%20%20%20%20%20%20%20%20%20%7B%0A%20%20%22bubblingMouseEvents%22%3A%20true%2C%0A%20%20%22color%22%3A%20%22blue%22%2C%0A%20%20%22dashArray%22%3A%20null%2C%0A%20%20%22dashOffset%22%3A%20null%2C%0A%20%20%22fill%22%3A%20true%2C%0A%20%20%22fillColor%22%3A%20%22darkblue%22%2C%0A%20%20%22fillOpacity%22%3A%200.7%2C%0A%20%20%22fillRule%22%3A%20%22evenodd%22%2C%0A%20%20%22lineCap%22%3A%20%22round%22%2C%0A%20%20%22lineJoin%22%3A%20%22round%22%2C%0A%20%20%22opacity%22%3A%201.0%2C%0A%20%20%22radius%22%3A%205%2C%0A%20%20%22stroke%22%3A%20true%2C%0A%20%20%22weight%22%3A%203%0A%7D%0A%20%20%20%20%20%20%20%20%20%20%20%20%20%20%20%20%29.addTo%28map_ec698402f338468cadfd71cb66bfc0ae%29%3B%0A%20%20%20%20%20%20%20%20%20%20%20%20%0A%20%20%20%20%0A%20%20%20%20%20%20%20%20%20%20%20%20var%20popup_33c7c707c20d403f9c174a0c7e9a94f4%20%3D%20L.popup%28%7BmaxWidth%3A%20%27300%27%7D%29%3B%0A%0A%20%20%20%20%20%20%20%20%20%20%20%20%0A%20%20%20%20%20%20%20%20%20%20%20%20%20%20%20%20var%20html_37b4918385f542c599403fe5382d0b84%20%3D%20%24%28%27%3Cdiv%20id%3D%22html_37b4918385f542c599403fe5382d0b84%22%20style%3D%22width%3A%20100.0%25%3B%20height%3A%20100.0%25%3B%22%3EFeldmoching-Hasenbergl%20-%20Pop%3A%2062069%3C/div%3E%27%29%5B0%5D%3B%0A%20%20%20%20%20%20%20%20%20%20%20%20%20%20%20%20popup_33c7c707c20d403f9c174a0c7e9a94f4.setContent%28html_37b4918385f542c599403fe5382d0b84%29%3B%0A%20%20%20%20%20%20%20%20%20%20%20%20%0A%0A%20%20%20%20%20%20%20%20%20%20%20%20circle_marker_613ac78a70164297a9402273ba70f0bb.bindPopup%28popup_33c7c707c20d403f9c174a0c7e9a94f4%29%3B%0A%0A%20%20%20%20%20%20%20%20%20%20%20%20%0A%20%20%20%20%20%20%20%20%0A%20%20%20%20%0A%20%20%20%20%20%20%20%20%20%20%20%20var%20circle_marker_e622fd43b90a472bbb719985aad34f7a%20%3D%20L.circleMarker%28%0A%20%20%20%20%20%20%20%20%20%20%20%20%20%20%20%20%5B45.8652491%2C11.1774221%5D%2C%0A%20%20%20%20%20%20%20%20%20%20%20%20%20%20%20%20%7B%0A%20%20%22bubblingMouseEvents%22%3A%20true%2C%0A%20%20%22color%22%3A%20%22blue%22%2C%0A%20%20%22dashArray%22%3A%20null%2C%0A%20%20%22dashOffset%22%3A%20null%2C%0A%20%20%22fill%22%3A%20true%2C%0A%20%20%22fillColor%22%3A%20%22darkblue%22%2C%0A%20%20%22fillOpacity%22%3A%200.7%2C%0A%20%20%22fillRule%22%3A%20%22evenodd%22%2C%0A%20%20%22lineCap%22%3A%20%22round%22%2C%0A%20%20%22lineJoin%22%3A%20%22round%22%2C%0A%20%20%22opacity%22%3A%201.0%2C%0A%20%20%22radius%22%3A%205%2C%0A%20%20%22stroke%22%3A%20true%2C%0A%20%20%22weight%22%3A%203%0A%7D%0A%20%20%20%20%20%20%20%20%20%20%20%20%20%20%20%20%29.addTo%28map_ec698402f338468cadfd71cb66bfc0ae%29%3B%0A%20%20%20%20%20%20%20%20%20%20%20%20%0A%20%20%20%20%0A%20%20%20%20%20%20%20%20%20%20%20%20var%20popup_48b29635da96470e9f844b4338e41b10%20%3D%20L.popup%28%7BmaxWidth%3A%20%27300%27%7D%29%3B%0A%0A%20%20%20%20%20%20%20%20%20%20%20%20%0A%20%20%20%20%20%20%20%20%20%20%20%20%20%20%20%20var%20html_a1d91639d1c44341915bddee55bf8bc8%20%3D%20%24%28%27%3Cdiv%20id%3D%22html_a1d91639d1c44341915bddee55bf8bc8%22%20style%3D%22width%3A%20100.0%25%3B%20height%3A%20100.0%25%3B%22%3ELaim%20-%20Pop%3A%2057111%3C/div%3E%27%29%5B0%5D%3B%0A%20%20%20%20%20%20%20%20%20%20%20%20%20%20%20%20popup_48b29635da96470e9f844b4338e41b10.setContent%28html_a1d91639d1c44341915bddee55bf8bc8%29%3B%0A%20%20%20%20%20%20%20%20%20%20%20%20%0A%0A%20%20%20%20%20%20%20%20%20%20%20%20circle_marker_e622fd43b90a472bbb719985aad34f7a.bindPopup%28popup_48b29635da96470e9f844b4338e41b10%29%3B%0A%0A%20%20%20%20%20%20%20%20%20%20%20%20%0A%20%20%20%20%20%20%20%20%0A%20%20%20%20%0A%20%20%20%20%20%20%20%20%20%20%20%20var%20circle_marker_e01f12f0a36946a38ebb17c279b6b895%20%3D%20L.circleMarker%28%0A%20%20%20%20%20%20%20%20%20%20%20%20%20%20%20%20%5B48.116221%2C11.4795136%5D%2C%0A%20%20%20%20%20%20%20%20%20%20%20%20%20%20%20%20%7B%0A%20%20%22bubblingMouseEvents%22%3A%20true%2C%0A%20%20%22color%22%3A%20%22blue%22%2C%0A%20%20%22dashArray%22%3A%20null%2C%0A%20%20%22dashOffset%22%3A%20null%2C%0A%20%20%22fill%22%3A%20true%2C%0A%20%20%22fillColor%22%3A%20%22darkblue%22%2C%0A%20%20%22fillOpacity%22%3A%200.7%2C%0A%20%20%22fillRule%22%3A%20%22evenodd%22%2C%0A%20%20%22lineCap%22%3A%20%22round%22%2C%0A%20%20%22lineJoin%22%3A%20%22round%22%2C%0A%20%20%22opacity%22%3A%201.0%2C%0A%20%20%22radius%22%3A%205%2C%0A%20%20%22stroke%22%3A%20true%2C%0A%20%20%22weight%22%3A%203%0A%7D%0A%20%20%20%20%20%20%20%20%20%20%20%20%20%20%20%20%29.addTo%28map_ec698402f338468cadfd71cb66bfc0ae%29%3B%0A%20%20%20%20%20%20%20%20%20%20%20%20%0A%20%20%20%20%0A%20%20%20%20%20%20%20%20%20%20%20%20var%20popup_6720f5a8fc594aec93477701537e8df3%20%3D%20L.popup%28%7BmaxWidth%3A%20%27300%27%7D%29%3B%0A%0A%20%20%20%20%20%20%20%20%20%20%20%20%0A%20%20%20%20%20%20%20%20%20%20%20%20%20%20%20%20var%20html_60b3d5d1c0464b8db32513387be05851%20%3D%20%24%28%27%3Cdiv%20id%3D%22html_60b3d5d1c0464b8db32513387be05851%22%20style%3D%22width%3A%20100.0%25%3B%20height%3A%20100.0%25%3B%22%3ELandeshauptstadt%20M%C3%BCnchen%20-%20Pop%3A%201560042%3C/div%3E%27%29%5B0%5D%3B%0A%20%20%20%20%20%20%20%20%20%20%20%20%20%20%20%20popup_6720f5a8fc594aec93477701537e8df3.setContent%28html_60b3d5d1c0464b8db32513387be05851%29%3B%0A%20%20%20%20%20%20%20%20%20%20%20%20%0A%0A%20%20%20%20%20%20%20%20%20%20%20%20circle_marker_e01f12f0a36946a38ebb17c279b6b895.bindPopup%28popup_6720f5a8fc594aec93477701537e8df3%29%3B%0A%0A%20%20%20%20%20%20%20%20%20%20%20%20%0A%20%20%20%20%20%20%20%20%0A%3C/script%3E onload=\"this.contentDocument.open();this.contentDocument.write(    decodeURIComponent(this.getAttribute('data-html')));this.contentDocument.close();\" allowfullscreen webkitallowfullscreen mozallowfullscreen></iframe></div></div>"
      ],
      "text/plain": [
       "<folium.folium.Map at 0x226f6ce1640>"
      ]
     },
     "execution_count": 67,
     "metadata": {},
     "output_type": "execute_result"
    }
   ],
   "source": [
    "# Munich map visualization\n",
    "\n",
    "munich_map = folium.Map(location = [lat, long], zoom_start = 10)\n",
    "\n",
    "for lat, long, borough, residents in zip(df_munich['lat'],\n",
    "                                         df_munich['long'],\n",
    "                                         df_munich['borough'], \n",
    "                                         df_munich['residents']):\n",
    "    label = f'{borough} - Pop: {residents}'\n",
    "    label = folium.Popup(label, parse_html = True)\n",
    "    folium.CircleMarker(\n",
    "        [lat, long],\n",
    "        radius = 5,\n",
    "        popup = label,\n",
    "        color = 'blue',\n",
    "        fill = True,\n",
    "        fill_color = 'darkblue',\n",
    "        fill_opacity = 0.7,\n",
    "        parse_html = False).add_to(munich_map)\n",
    "\n",
    "munich_map    "
   ]
  },
  {
   "cell_type": "code",
   "execution_count": null,
   "metadata": {},
   "outputs": [],
   "source": []
  }
 ],
 "metadata": {
  "kernelspec": {
   "display_name": "Python 3",
   "language": "python",
   "name": "python3"
  },
  "language_info": {
   "codemirror_mode": {
    "name": "ipython",
    "version": 3
   },
   "file_extension": ".py",
   "mimetype": "text/x-python",
   "name": "python",
   "nbconvert_exporter": "python",
   "pygments_lexer": "ipython3",
   "version": "3.8.3"
  },
  "toc": {
   "base_numbering": 1,
   "nav_menu": {},
   "number_sections": true,
   "sideBar": true,
   "skip_h1_title": false,
   "title_cell": "Table of Contents",
   "title_sidebar": "Contents",
   "toc_cell": false,
   "toc_position": {},
   "toc_section_display": true,
   "toc_window_display": false
  }
 },
 "nbformat": 4,
 "nbformat_minor": 4
}
